{
 "cells": [
  {
   "cell_type": "code",
   "execution_count": 1,
   "id": "2da01978-54ed-4db2-9540-8e7d227a269c",
   "metadata": {},
   "outputs": [
    {
     "name": "stderr",
     "output_type": "stream",
     "text": [
      "<>:3: SyntaxWarning: invalid escape sequence '\\P'\n",
      "<>:3: SyntaxWarning: invalid escape sequence '\\P'\n",
      "C:\\Users\\9616k\\AppData\\Local\\Temp\\ipykernel_15380\\3246455475.py:3: SyntaxWarning: invalid escape sequence '\\P'\n",
      "  path=\"C:\\Program Files (x86)\\msedgedriver.exe\"\n"
     ]
    }
   ],
   "source": [
    "BASEURL=\"https://replicate.com/meta/llama-2-13b-chat\"\n",
    "import selenium\n",
    "path=\"C:\\Program Files (x86)\\msedgedriver.exe\"\n",
    "from selenium import webdriver\n",
    "from selenium.webdriver.common.by import By\n",
    "import time\n",
    "import os\n",
    "import re\n",
    "import csv\n",
    "import replicate\n",
    "REPLICATE_API_TOKEN = \"r8_OUIZ8VqW8IORJ9snizKgPggxdBr9d4f1n7Wtb\"\n",
    "os.environ[\"REPLICATE_API_TOKEN\"] = REPLICATE_API_TOKEN"
   ]
  },
  {
   "cell_type": "code",
   "execution_count": 2,
   "id": "d72794a2-7ae1-4ace-992b-6d904c8f4107",
   "metadata": {},
   "outputs": [],
   "source": [
    "INPUT_DIR=\"New/latest/Agro-enterprises/\""
   ]
  },
  {
   "cell_type": "code",
   "execution_count": 3,
   "id": "af0e0169-d49e-411d-9e67-f70da82a0287",
   "metadata": {},
   "outputs": [],
   "source": [
    "def writeFile(dict,output_path=\"output.csv\"):\n",
    "    fields = [\"question\", \"answer\"]\n",
    "    with open(output_path, 'w', newline='',encoding='utf-8') as csvfile:\n",
    "        writer = csv.DictWriter(csvfile, fieldnames=fields)\n",
    "        writer.writeheader()\n",
    "        for key, value in dict.items():\n",
    "            writer.writerow({'question': key.replace('\\n','\\\\n'), 'answer': value.replace('\\n','\\\\n')})\n",
    "def readGeneratedCSV(input_path):\n",
    "    questions = []\n",
    "    answers= []\n",
    "    with open(input_path, 'r', newline='', encoding='utf-8') as csvfile:\n",
    "        reader = csv.DictReader(csvfile)\n",
    "        for row in reader:\n",
    "            question = row.get('question', '')\n",
    "            answer = row.get('answer','')\n",
    "            questions.append(question.strip())\n",
    "            answers.append(answer.strip())\n",
    "    return questions,answers          "
   ]
  },
  {
   "cell_type": "code",
   "execution_count": 4,
   "id": "74784f57-b94c-44e5-9ab9-d7e6543efb7b",
   "metadata": {},
   "outputs": [],
   "source": [
    "def process_content(prompt,context,driver,generatingQuestions=False):\n",
    "    try:\n",
    "        textarea_context = driver.find_element(By.ID, 'system_prompt')\n",
    "        textarea_context.clear()\n",
    "        textarea_context.send_keys(context)\n",
    "        if not generatingQuestions:\n",
    "            textarea_prompt = driver.find_element(By.ID, 'prompt')\n",
    "            textarea_prompt.clear()\n",
    "            textarea_prompt.send_keys(prompt)\n",
    "            max_new_tokens = driver.find_element(By.ID, 'max_new_tokens')\n",
    "            max_new_tokens.clear()\n",
    "            new_value = 6000  # Replace with your desired numeric value\n",
    "            max_new_tokens.send_keys(str(new_value))\n",
    "            temp = driver.find_element(By.ID, 'temperature')\n",
    "            temp.clear()\n",
    "            new_value = 0.01  # Replace with your desired numeric value\n",
    "            temp.send_keys(str(new_value))\n",
    "            seed = driver.find_element(By.ID, 'seed')\n",
    "            seed.clear()\n",
    "            new_value = 1  # Replace with your desired numeric value\n",
    "            seed.send_keys(str(new_value))\n",
    "        form = driver.find_element(By.ID, 'input-form')  # Replace with the actual form locator\n",
    "        form.submit()\n",
    "        time.sleep(30)\n",
    "        # Fetch content of div with class 'output' and print\n",
    "        output_div = driver.find_element(By.CLASS_NAME, 'output')\n",
    "        output_text = output_div.text\n",
    "        # print(output_text)\n",
    "        return output_text\n",
    "    except:\n",
    "        return \"\""
   ]
  },
  {
   "cell_type": "code",
   "execution_count": 5,
   "id": "8d14b877-79f4-4ced-add5-07fa996e87d0",
   "metadata": {},
   "outputs": [],
   "source": [
    "def processFile(questions):\n",
    "    prompt = r\"Generate all possible ways of asking questions related to the question provided in the following format only:1.question1 \\n 2.question2 \\n 3.question3,..], where \\n means line break, provide serial number as given, nothing extra is to be added\"\n",
    "    inputTokenLimit = 4050\n",
    "    result = {}\n",
    "    try:\n",
    "        driver = webdriver.Edge()\n",
    "        driver.get(BASEURL)\n",
    "        for i,question in enumerate(questions):\n",
    "            if(i==0):\n",
    "                generated_questions = process_content(prompt, question, driver)\n",
    "            else:\n",
    "                generated_questions = process_content(prompt, question, driver,True)\n",
    "            lines = generated_questions.split('\\n')\n",
    "            filtered_lines = [line.strip()[2:] for line in lines if line.strip() != '']\n",
    "            filtered_lines = filtered_lines[1:]\n",
    "            result[question] = filtered_lines\n",
    "        driver.quit()\n",
    "        return result\n",
    "    except Exception as e:\n",
    "        print(\"An error occurred:\", e)\n",
    "        return {}"
   ]
  },
  {
   "cell_type": "code",
   "execution_count": 6,
   "id": "0ed9cd00-904b-4b60-8b85-f25a205bb1f7",
   "metadata": {},
   "outputs": [
    {
     "name": "stdout",
     "output_type": "stream",
     "text": [
      "0 : About-Bee-Keeping.csv\n",
      "1 : About-Bee-Keeping.txt\n",
      "2 : Advisory-on-Good-Beekeeping-Practices-(GBPs).csv\n",
      "3 : Advisory-on-Good-Beekeeping-Practices-(GBPs).txt\n"
     ]
    }
   ],
   "source": [
    "for iteration,FILENAME in enumerate(os.listdir(INPUT_DIR)):\n",
    "        print(iteration,\":\",FILENAME)"
   ]
  },
  {
   "cell_type": "code",
   "execution_count": 7,
   "id": "8f557964-aea3-464e-b400-8c2e9ea6d827",
   "metadata": {},
   "outputs": [
    {
     "name": "stdout",
     "output_type": "stream",
     "text": [
      "DONE FOR 0 : Advisory-on-Good-Beekeeping-Practices-(GBPs).csv\n"
     ]
    }
   ],
   "source": [
    "for iteration,FILENAME in enumerate(os.listdir(INPUT_DIR)[2:]):\n",
    "    try:\n",
    "        if(FILENAME[len(FILENAME)-3:]==\"csv\"):\n",
    "            content=readGeneratedCSV(INPUT_DIR+FILENAME)\n",
    "            responses = processFile(content[0])\n",
    "            final={}\n",
    "            for i,res in enumerate(content[0]):\n",
    "                for j in responses[content[0][i]]:\n",
    "                    final[j]=content[1][i]\n",
    "            writeFile(final,INPUT_DIR+FILENAME)\n",
    "            print(\"DONE FOR\",iteration,\":\",FILENAME)\n",
    "    except:\n",
    "        print(\"FAILED FOR\",iteration,\":\",FILENAME)"
   ]
  },
  {
   "cell_type": "code",
   "execution_count": null,
   "id": "e7134855-e441-463c-bf10-671f810d726f",
   "metadata": {},
   "outputs": [],
   "source": []
  }
 ],
 "metadata": {
  "kernelspec": {
   "display_name": "Python 3 (ipykernel)",
   "language": "python",
   "name": "python3"
  },
  "language_info": {
   "codemirror_mode": {
    "name": "ipython",
    "version": 3
   },
   "file_extension": ".py",
   "mimetype": "text/x-python",
   "name": "python",
   "nbconvert_exporter": "python",
   "pygments_lexer": "ipython3",
   "version": "3.12.0"
  }
 },
 "nbformat": 4,
 "nbformat_minor": 5
}
