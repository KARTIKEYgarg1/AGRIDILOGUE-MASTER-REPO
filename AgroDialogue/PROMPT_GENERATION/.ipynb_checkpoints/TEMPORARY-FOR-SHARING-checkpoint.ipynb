{
 "cells": [
  {
   "cell_type": "code",
   "execution_count": 1,
   "id": "74a5d93e-a98f-4b15-95cb-28c00470bb5f",
   "metadata": {},
   "outputs": [
    {
     "name": "stderr",
     "output_type": "stream",
     "text": [
      "<>:3: SyntaxWarning: invalid escape sequence '\\P'\n",
      "<>:3: SyntaxWarning: invalid escape sequence '\\P'\n",
      "C:\\Users\\9616k\\AppData\\Local\\Temp\\ipykernel_18828\\3246455475.py:3: SyntaxWarning: invalid escape sequence '\\P'\n",
      "  path=\"C:\\Program Files (x86)\\msedgedriver.exe\"\n"
     ]
    }
   ],
   "source": [
    "BASEURL=\"https://replicate.com/meta/llama-2-13b-chat\"\n",
    "import selenium\n",
    "path=\"C:\\Program Files (x86)\\msedgedriver.exe\"\n",
    "from selenium import webdriver\n",
    "from selenium.webdriver.common.by import By\n",
    "import time\n",
    "import os\n",
    "import re\n",
    "import csv\n",
    "import replicate\n",
    "REPLICATE_API_TOKEN = \"r8_OUIZ8VqW8IORJ9snizKgPggxdBr9d4f1n7Wtb\"\n",
    "os.environ[\"REPLICATE_API_TOKEN\"] = REPLICATE_API_TOKEN"
   ]
  },
  {
   "cell_type": "code",
   "execution_count": 13,
   "id": "501811cf-b98c-4c71-a3a2-312f317f3fb1",
   "metadata": {},
   "outputs": [],
   "source": [
    "INPUT_DIR=\"CATEGORICAL_FORMATTED_VIKASPEDIA/Agro-enterprises/\"\n",
    "OUTPUT_DIR=\"New/latest/Agro-enterprises/\"\n",
    "if not (os.path.exists(OUTPUT_DIR)):\n",
    "    os.mkdir(OUTPUT_DIR)"
   ]
  },
  {
   "cell_type": "code",
   "execution_count": 14,
   "id": "6449d7bb-97cd-4fc2-b43a-7c04f7baadbb",
   "metadata": {},
   "outputs": [],
   "source": [
    "def writeFile(dict,output_path=\"output.csv\"):\n",
    "    fields = [\"question\", \"answer\"]\n",
    "    with open(output_path, 'w', newline='',encoding='utf-8') as csvfile:\n",
    "        writer = csv.DictWriter(csvfile, fieldnames=fields)\n",
    "        writer.writeheader()\n",
    "        for key, value in dict.items():\n",
    "            writer.writerow({'question': key.replace('\\n','\\\\n'), 'answer': value.replace('\\n','\\\\n')})\n",
    "\n",
    "\n",
    "def writeQuestionsFile(temp,output_path=\"output.txt\"):\n",
    "    with open(output_path, 'a+', newline='') as textFile:\n",
    "        for que in temp:\n",
    "            textFile.write(que+\"\\n\\n\")\n",
    "    print(\"QUE GENERATED IN: \",output_path)\n",
    "\n",
    "def readCSV(input_path=\"input.csv\"):\n",
    "    with open(input_path, 'r', newline='', encoding='utf-8') as csvfile:\n",
    "        reader = csv.reader(csvfile)\n",
    "        header = next(reader)  # Read the header\n",
    "\n",
    "        # Print or handle the header as needed\n",
    "        print(f\"Header: {header}\")\n",
    "\n",
    "        # Iterate through rows\n",
    "        for row in reader:\n",
    "            # Process the row and handle escape sequences as needed\n",
    "            processed_row = []\n",
    "            for item in row:\n",
    "                processed_row.append(item.replace(\"\\\\n\", \"\\n\"))  # Replace '\\\\n' with actual newline character\n",
    "            answer = processed_row[1]  # Assuming the second column is the 'answer'\n",
    "            answerRows = answer.split('\\n')  # Split the answer by newline\n",
    "            print(f\"{processed_row[0]}: {answerRows}\\n\")"
   ]
  },
  {
   "cell_type": "code",
   "execution_count": 15,
   "id": "7ff40de5-1961-4b3e-9ac1-8c10a74469ee",
   "metadata": {},
   "outputs": [],
   "source": [
    "\n",
    "def process_content(prompt,context,driver,generatingQuestions=False):\n",
    "    try:\n",
    "        textarea_prompt = driver.find_element(By.ID, 'prompt')\n",
    "        textarea_prompt.clear()\n",
    "        textarea_prompt.send_keys(prompt)\n",
    "        if not generatingQuestions:\n",
    "            textarea_context = driver.find_element(By.ID, 'system_prompt')\n",
    "            textarea_context.clear()\n",
    "            textarea_context.send_keys(context)\n",
    "            max_new_tokens = driver.find_element(By.ID, 'max_new_tokens')\n",
    "            max_new_tokens.clear()\n",
    "            new_value = 6000  # Replace with your desired numeric value\n",
    "            max_new_tokens.send_keys(str(new_value))\n",
    "            temp = driver.find_element(By.ID, 'temperature')\n",
    "            temp.clear()\n",
    "            new_value = 0.01  # Replace with your desired numeric value\n",
    "            temp.send_keys(str(new_value))\n",
    "            seed = driver.find_element(By.ID, 'seed')\n",
    "            seed.clear()\n",
    "            new_value = 1  # Replace with your desired numeric value\n",
    "            seed.send_keys(str(new_value))\n",
    "        form = driver.find_element(By.ID, 'input-form')  # Replace with the actual form locator\n",
    "        form.submit()\n",
    "        time.sleep(30)\n",
    "        # Fetch content of div with class 'output' and print\n",
    "        output_div = driver.find_element(By.CLASS_NAME, 'output')\n",
    "        output_text = output_div.text\n",
    "        # print(output_text)\n",
    "        return output_text\n",
    "    except:\n",
    "        return \"\""
   ]
  },
  {
   "cell_type": "code",
   "execution_count": 20,
   "id": "79e28093-6269-45a5-a291-9348d7a13d36",
   "metadata": {},
   "outputs": [],
   "source": [
    "def processFile(context,driver,FILENAME):\n",
    "    prompt=r\"Generate all possible questions related to the context provided in the following format only:1.question1 \\n 2.question2 \\n 3.question3,..],where \\n means line break, provide serial number as given, nothing extra is to be added\"\n",
    "    inputTokenLimit=4050\n",
    "    s=\"\"\n",
    "    queAns={}\n",
    "    try:\n",
    "        s=process_content(prompt,context,driver)\n",
    "        # filtered_str = re.sub('^Sure.*\\n', '', s.strip())\n",
    "        lines = s.split('\\n')\n",
    "        temp = [line.strip()[2:] for line in lines if line.strip() != '']\n",
    "        temp=temp[1:]\n",
    "        writeQuestionsFile(temp,OUTPUT_DIR+FILENAME)\n",
    "        prompt=\"?Generate answer with respect to the context provided\"\n",
    "        for line in temp:\n",
    "            queAns[line]=process_content(line+prompt,context,driver,True)\n",
    "        return queAns\n",
    "    except Exception as e:\n",
    "        print(\"An error occurred:\", e)\n",
    "        return {}"
   ]
  },
  {
   "cell_type": "code",
   "execution_count": 21,
   "id": "5e8075db-cc70-49f8-be1e-bbecf66f406e",
   "metadata": {},
   "outputs": [],
   "source": [
    "def generateResponse(context,FILENAME):\n",
    "    driver = webdriver.Edge()\n",
    "    driver.get(BASEURL)\n",
    "    temp=processFile(context,driver,FILENAME)\n",
    "    driver.quit()\n",
    "    return temp"
   ]
  },
  {
   "cell_type": "code",
   "execution_count": 22,
   "id": "4ec5fe93-4ed3-4f8a-a9d2-99801c408cf7",
   "metadata": {},
   "outputs": [
    {
     "name": "stdout",
     "output_type": "stream",
     "text": [
      "About-Bee-Keeping.txt\n",
      "Advisory-on-Good-Beekeeping-Practices-(GBPs).txt\n",
      "Bee-Hive.txt\n",
      "Bee-Swarm.txt\n",
      "Beekeeping-Checklist.txt\n",
      "Button-mushroom-production.txt\n",
      "Chawki-rearing.txt\n",
      "Diseases-of-Honeybee.txt\n",
      "Do_s-and-Don_ts-in-Beekeeping.txt\n",
      "Dry-flower-production.txt\n",
      "Eco-paper-Production.txt\n",
      "Economics-of-cocoon-production.txt\n",
      "Floriculture.txt\n",
      "Hydroponics.txt\n",
      "Insect-of-Honeybee.txt\n",
      "Kitchen-Garden.txt\n",
      "Modern-Nursery.txt\n",
      "Mulberry-cultivation.txt\n",
      "Mushroom-Magic.txt\n",
      "Other-mushroom-types.txt\n",
      "Oyster-mushroom-production.txt\n",
      "Post-Harvest-Handling-Protocol-for-Honey-Broad-Guidelines-for-use-of-FPOs.txt\n",
      "Products-from-corn.txt\n",
      "Rural-Technologies.txt\n",
      "Sericulture-in-India.txt\n",
      "Silkworm-rearing.txt\n",
      "Tamarind-Processing-machinery-.txt\n",
      "Useful-Resources.txt\n",
      "Vermicomposting.txt\n",
      "Wonders-of-Bees-.txt\n"
     ]
    }
   ],
   "source": [
    "for iteration,i in enumerate(os.listdir(INPUT_DIR)):\n",
    "    print(i)"
   ]
  },
  {
   "cell_type": "code",
   "execution_count": null,
   "id": "24ed110b-3166-4f02-bc48-5d42a4f79332",
   "metadata": {},
   "outputs": [
    {
     "name": "stdout",
     "output_type": "stream",
     "text": [
      "QUE GENERATED IN:  New/latest/Agro-enterprises/Advisory-on-Good-Beekeeping-Practices-(GBPs).txt\n"
     ]
    }
   ],
   "source": [
    "import os\n",
    "res=[]\n",
    "for iteration,i in enumerate(os.listdir(INPUT_DIR)[1:2]):\n",
    "    context = open(INPUT_DIR+i, \"r\",encoding=\"utf-8\").read()\n",
    "    context=re.sub('\\n','',context)\n",
    "    context=context[:7000]\n",
    "    \n",
    "    response=generateResponse(context,i)\n",
    "    \n",
    "    writeFile(response,OUTPUT_DIR+i[:len(i)-4]+\".csv\")\n",
    "    res.append(response)\n",
    "    \n",
    "    if len(response)>1:\n",
    "    # writeFile(response,\"New/latest/\"+i)\n",
    "        print(\"DONE FOR\",iteration,\":\",i[:len(i)-4])\n",
    "    else:\n",
    "        print(\"FAILED FOR\",iteration,\":\",i[:len(i)-4])\n",
    "        "
   ]
  },
  {
   "cell_type": "code",
   "execution_count": 15,
   "id": "f9d308a7-54ee-46cc-9051-abf6a29855df",
   "metadata": {},
   "outputs": [
    {
     "name": "stdout",
     "output_type": "stream",
     "text": [
      "Header: ['question', 'answer']\n",
      "q: ['Based on the given text, here are the criteria considered for providing assistance under the Integrated Scheme for Agricultural Marketing (ISAM):', '1. Location: The scheme prioritizes assistance for farmers in hilly and tribal areas, as well as those in North Eastern states, Sikkim, Uttarakhand, Jammu & Kashmir, and Lakshadweep islands.', '2. Beneficiary category: Assistance is available for registered Farmer Producer Organizations (FPOs), Anchayats, women farmers/entrepreneurs, Scheduled Caste (SC)/Scheduled Tribe (ST) beneficiaries or their cooperatives**.', '3. Type of facilities: Eligible marketing infrastructure includes all post-harvest management facilities, such as market yards, grading and standardization infrastructure, labeling and packaging facilities, and direct marketing facilities from producers to consumers/processing units/bulk buyers.', '4. Subsidy ceiling: The subsidy ceiling varies based on the type of facility and the location of the project. For storage infrastructure projects, the subsidy ceiling is up to 1000 MT at a rate of 33.33% of the capital cost, and for other marketing infrastructure projects, the subsidy ceiling is up to 500 MT at a rate of 25% of the capital cost.', '5. Maximum limit: The maximum limit for assistance under the scheme is Rs. 5 lakh for storage infrastructure projects and Rs. 4 lakh for other marketing infrastructure projects.', '6. Cooperative societies: SC/ST cooperatives must be certified by the concerned officer of the state government to be eligible for assistance.']\n",
      "\n"
     ]
    }
   ],
   "source": [
    "readCSV(\"output.csv\")"
   ]
  }
 ],
 "metadata": {
  "kernelspec": {
   "display_name": "Python 3 (ipykernel)",
   "language": "python",
   "name": "python3"
  },
  "language_info": {
   "codemirror_mode": {
    "name": "ipython",
    "version": 3
   },
   "file_extension": ".py",
   "mimetype": "text/x-python",
   "name": "python",
   "nbconvert_exporter": "python",
   "pygments_lexer": "ipython3",
   "version": "3.12.0"
  }
 },
 "nbformat": 4,
 "nbformat_minor": 5
}
