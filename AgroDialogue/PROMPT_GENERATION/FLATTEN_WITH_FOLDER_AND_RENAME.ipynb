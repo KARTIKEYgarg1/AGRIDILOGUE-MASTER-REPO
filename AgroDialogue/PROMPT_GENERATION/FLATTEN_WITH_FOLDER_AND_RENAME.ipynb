{
 "cells": [
  {
   "cell_type": "code",
   "execution_count": 1,
   "id": "743556c5-2c32-4792-be1c-897f7d28be11",
   "metadata": {},
   "outputs": [],
   "source": [
    "import os\n",
    "import shutil\n",
    "from pathlib import Path"
   ]
  },
  {
   "cell_type": "code",
   "execution_count": 2,
   "id": "3f8602d7-6905-4a9f-9d1d-f97c410b3429",
   "metadata": {},
   "outputs": [],
   "source": [
    "import re\n",
    "def clean_name(folder_name):\n",
    "    # Replace special characters in folder name with '-'\n",
    "    # For special cases like while scraping data for category: Guidelines for Release/Notification, Provisional Notification and De-notification of Cultivars\n",
    "    cleaned_name = re.sub(r'[\\/:*?\"<>| ]', '-', folder_name)\n",
    "    return cleaned_name"
   ]
  },
  {
   "cell_type": "code",
   "execution_count": 10,
   "id": "61b99461-3295-4cc2-89aa-07104679fa91",
   "metadata": {},
   "outputs": [],
   "source": [
    "def move(source,dest):\n",
    "    isExist = os.path.exists(source)\n",
    "    os.makedirs(dest, exist_ok=True)\n",
    "    if isExist is False:\n",
    "        return \"PATH DOES NOT  EXIST\"\n",
    "    try:\n",
    "        for item in os.listdir(source):\n",
    "            item_path = os.path.join(source, item)\n",
    "            if os.path.isdir(item_path):\n",
    "                move(item_path,dest)  # Recursively call move function for directories\n",
    "            else:\n",
    "                # print(item)\n",
    "                with open(os.path.join(os.getcwd(),item_path),\"r\",encoding=\"utf-8\") as c:\n",
    "                    with open(os.path.join(os.getcwd(),dest,clean_name(item)),\"w\",encoding=\"utf-8\") as nf:\n",
    "                        nf.write(c.read())\n",
    "                # print(f\"SUCCESS FOR {item}\")\n",
    "    except Exception as e:\n",
    "        print(e)"
   ]
  },
  {
   "cell_type": "code",
   "execution_count": 11,
   "id": "3b6c3d70-fa34-46b2-b0f8-e6097739a1ec",
   "metadata": {},
   "outputs": [
    {
     "name": "stdout",
     "output_type": "stream",
     "text": [
      "[Errno 2] No such file or directory: 'C:\\\\Users\\\\9616k\\\\Documents\\\\CODES\\\\WebScrapLearning\\\\AgroDialogue\\\\DATA\\\\Vikaspedia\\\\Best Practices\\\\Sustainable Agriculture\\\\Marketing\\\\Farmers undertake market operations - A case of collective action\\\\Farmers undertake market operations - A case of collective action.txt'\n",
      "[Errno 2] No such file or directory: 'C:\\\\Users\\\\9616k\\\\Documents\\\\CODES\\\\WebScrapLearning\\\\AgroDialogue\\\\DATA\\\\Vikaspedia\\\\Best Practices\\\\Sustainable Agriculture\\\\Pest management\\\\Cotton\\\\Alternative farming practices for remunerative dryland Cotton\\\\Alternative farming practices for remunerative dryland Cotton.txt'\n",
      "[Errno 2] No such file or directory: 'C:\\\\Users\\\\9616k\\\\Documents\\\\CODES\\\\WebScrapLearning\\\\AgroDialogue\\\\DATA\\\\Vikaspedia\\\\Crop Production\\\\Crop management for aberrant weather conditions\\\\Contigency plan for rice under aberrant weather situations\\\\Contigency plan for rice under aberrant weather situations.txt'\n",
      "[Errno 2] No such file or directory: 'C:\\\\Users\\\\9616k\\\\Documents\\\\CODES\\\\WebScrapLearning\\\\AgroDialogue\\\\DATA\\\\Vikaspedia\\\\Crop Production\\\\Crop management for aberrant weather conditions\\\\Rain deficit moisture stress management in Plantation crops\\\\Rain deficit moisture stress management in Plantation crops.txt'\n",
      "[Errno 2] No such file or directory: 'C:\\\\Users\\\\9616k\\\\Documents\\\\CODES\\\\WebScrapLearning\\\\AgroDialogue\\\\DATA\\\\Vikaspedia\\\\Crop Production\\\\Integrated Pest Managment\\\\IPM for Cereals and Millets\\\\IPM Strategies for Pearl millet\\\\Nutritional Deficiencies of Pearl millet\\\\Nutritional Deficiencies of Pearl millet.txt'\n",
      "[Errno 2] No such file or directory: 'C:\\\\Users\\\\9616k\\\\Documents\\\\CODES\\\\WebScrapLearning\\\\AgroDialogue\\\\DATA\\\\Vikaspedia\\\\Crop Production\\\\Integrated Pest Managment\\\\IPM for commercial crops\\\\Bio-ecology and management of cashew stem and root borers\\\\Bio-ecology and management of cashew stem and root borers.txt'\n",
      "[Errno 2] No such file or directory: 'C:\\\\Users\\\\9616k\\\\Documents\\\\CODES\\\\WebScrapLearning\\\\AgroDialogue\\\\DATA\\\\Vikaspedia\\\\Crop Production\\\\Integrated Pest Managment\\\\IPM for commercial crops\\\\IPM Strategies for Sugarcane\\\\Sugarcane- Insect and Mite Pests Management\\\\Sugarcane- Insect and Mite Pests Management.txt'\n",
      "[Errno 2] No such file or directory: 'C:\\\\Users\\\\9616k\\\\Documents\\\\CODES\\\\WebScrapLearning\\\\AgroDialogue\\\\DATA\\\\Vikaspedia\\\\Crop Production\\\\Integrated Pest Managment\\\\IPM for commercial crops\\\\IPM Strategies for Tobacco\\\\Tobacco- Insect and Nematode Pests Management\\\\Tobacco- Insect and Nematode Pests Management.txt'\n",
      "[Errno 2] No such file or directory: 'C:\\\\Users\\\\9616k\\\\Documents\\\\CODES\\\\WebScrapLearning\\\\AgroDialogue\\\\DATA\\\\Vikaspedia\\\\Crop Production\\\\Integrated Pest Managment\\\\IPM for fruit crops\\\\IPM Strategies for Apple\\\\Nutritional - Physiological Disorders of Apple\\\\Nutritional - Physiological Disorders of Apple.txt'\n",
      "[Errno 2] No such file or directory: 'C:\\\\Users\\\\9616k\\\\Documents\\\\CODES\\\\WebScrapLearning\\\\AgroDialogue\\\\DATA\\\\Vikaspedia\\\\Crop Production\\\\Integrated Pest Managment\\\\IPM for fruit crops\\\\IPM Strategies for Pomegranate\\\\Insect pest of Pomegranate in Hot Arid Region\\\\Insect pest of Pomegranate in Hot Arid Region.txt'\n",
      "[Errno 2] No such file or directory: 'C:\\\\Users\\\\9616k\\\\Documents\\\\CODES\\\\WebScrapLearning\\\\AgroDialogue\\\\DATA\\\\Vikaspedia\\\\Crop Production\\\\Integrated Pest Managment\\\\IPM for oilseeds\\\\IPM Strategies for Mustard-Rapeseed\\\\Nutritional Deficiencies-Disorders of Mustard\\\\Nutritional Deficiencies-Disorders of Mustard.txt'\n",
      "[Errno 2] No such file or directory: 'C:\\\\Users\\\\9616k\\\\Documents\\\\CODES\\\\WebScrapLearning\\\\AgroDialogue\\\\DATA\\\\Vikaspedia\\\\Crop Production\\\\Integrated Pest Managment\\\\IPM for pulses\\\\IPM Strategies for Blackgram _ Greengram\\\\Blackgram _ Greengram- Crop Stage-wise IPM\\\\Blackgram _ Greengram- Crop Stage-wise IPM.txt'\n",
      "[Errno 2] No such file or directory: 'C:\\\\Users\\\\9616k\\\\Documents\\\\CODES\\\\WebScrapLearning\\\\AgroDialogue\\\\DATA\\\\Vikaspedia\\\\Crop Production\\\\Integrated Pest Managment\\\\IPM for pulses\\\\IPM Strategies for Blackgram _ Greengram\\\\Blackgram _ Greengram- Diseases and Symptoms\\\\Blackgram _ Greengram- Diseases and Symptoms.txt'\n",
      "[Errno 2] No such file or directory: 'C:\\\\Users\\\\9616k\\\\Documents\\\\CODES\\\\WebScrapLearning\\\\AgroDialogue\\\\DATA\\\\Vikaspedia\\\\Crop Production\\\\Integrated Pest Managment\\\\IPM for spice crops\\\\IPM Strategies for Large cardamom\\\\Large cardamom- Insect and Pests Management\\\\Large cardamom- Insect and Pests Management.txt'\n",
      "[Errno 2] No such file or directory: 'C:\\\\Users\\\\9616k\\\\Documents\\\\CODES\\\\WebScrapLearning\\\\AgroDialogue\\\\DATA\\\\Vikaspedia\\\\Crop Production\\\\Integrated Pest Managment\\\\IPM for spice crops\\\\IPM Strategies for Turmeric\\\\Nutritional Deficiencies-Disorders of Turmeric\\\\Nutritional Deficiencies-Disorders of Turmeric.txt'\n",
      "[Errno 2] No such file or directory: 'C:\\\\Users\\\\9616k\\\\Documents\\\\CODES\\\\WebScrapLearning\\\\AgroDialogue\\\\DATA\\\\Vikaspedia\\\\Crop Production\\\\Integrated Pest Managment\\\\IPM for spice crops\\\\IPM Strategies for Turmeric\\\\Turmeric- Insect and Nematode Pests Management\\\\Turmeric- Insect and Nematode Pests Management.txt'\n",
      "[Errno 2] No such file or directory: 'C:\\\\Users\\\\9616k\\\\Documents\\\\CODES\\\\WebScrapLearning\\\\AgroDialogue\\\\DATA\\\\Vikaspedia\\\\Crop Production\\\\Integrated Pest Managment\\\\IPM for vegetable crops\\\\IPM Strategies for  Spinach\\\\Spinach- Nutritional Deficiencies- Disorders\\\\Spinach- Nutritional Deficiencies- Disorders.txt'\n",
      "[Errno 2] No such file or directory: 'C:\\\\Users\\\\9616k\\\\Documents\\\\CODES\\\\WebScrapLearning\\\\AgroDialogue\\\\DATA\\\\Vikaspedia\\\\Crop Production\\\\Integrated Pest Managment\\\\IPM for vegetable crops\\\\IPM strategies for cabbage and cauliflower\\\\Cabbage and Cauliflower Insect pests\\\\Cabbage and Cauliflower Insect pests.txt'\n",
      "[Errno 2] No such file or directory: 'C:\\\\Users\\\\9616k\\\\Documents\\\\CODES\\\\WebScrapLearning\\\\AgroDialogue\\\\DATA\\\\Vikaspedia\\\\Crop Production\\\\Integrated Pest Managment\\\\IPM for vegetable crops\\\\IPM Strategies for Potato\\\\Nutritional Deficiencies-Disorders of Potato\\\\Nutritional Deficiencies-Disorders of Potato.txt'\n",
      "[Errno 2] No such file or directory: 'C:\\\\Users\\\\9616k\\\\Documents\\\\CODES\\\\WebScrapLearning\\\\AgroDialogue\\\\DATA\\\\Vikaspedia\\\\Crop Production\\\\Integrated Pest Managment\\\\IPM for vegetable crops\\\\IPM strategies of Cucurbitaceous Vegetables\\\\Cucurbitaceous Vegetable Insect Pests\\\\Cucurbitaceous Vegetable Insect Pests.txt'\n",
      "[Errno 2] No such file or directory: 'C:\\\\Users\\\\9616k\\\\Documents\\\\CODES\\\\WebScrapLearning\\\\AgroDialogue\\\\DATA\\\\Vikaspedia\\\\Crop Production\\\\Nutrient-dense alternate crops for crop diversification and combating malnutrition\\\\Nutrient-dense alternate crops for crop diversification and combating malnutrition.txt'\n",
      "[Errno 2] No such file or directory: 'C:\\\\Users\\\\9616k\\\\Documents\\\\CODES\\\\WebScrapLearning\\\\AgroDialogue\\\\DATA\\\\Vikaspedia\\\\Crop Production\\\\Package of practices\\\\Cereals and millets\\\\Sorghum\\\\High yielding sorghum cultivars for various agro ecologies\\\\High yielding sorghum cultivars for various agro ecologies .txt'\n",
      "[Errno 2] No such file or directory: 'C:\\\\Users\\\\9616k\\\\Documents\\\\CODES\\\\WebScrapLearning\\\\AgroDialogue\\\\DATA\\\\Vikaspedia\\\\Crop Production\\\\Package of practices\\\\Oilseeds\\\\High Yielding Hybrids and Varieties of Castor (Ricinus communis L.)\\\\High Yielding Hybrids and Varieties of Castor (Ricinus communis L.).txt'\n",
      "[Errno 2] No such file or directory: 'C:\\\\Users\\\\9616k\\\\Documents\\\\CODES\\\\WebScrapLearning\\\\AgroDialogue\\\\DATA\\\\Vikaspedia\\\\Fisheries\\\\Inland fisheries\\\\Culture fisheries\\\\Types of aquaculture\\\\Intensity of inputs and stocking density based aquaculture\\\\Intensity of inputs and stocking density based aquaculture.txt'\n",
      "'utf-8' codec can't decode byte 0x91 in position 15: invalid start byte\n",
      "[Errno 2] No such file or directory: 'C:\\\\Users\\\\9616k\\\\Documents\\\\CODES\\\\WebScrapLearning\\\\AgroDialogue\\\\DATA\\\\Vikaspedia\\\\Policies and Schemes\\\\Livestock _ Poultry related\\\\Action Plan for Prevention, Control _ Containment of Avian Influenza\\\\Action Plan for Prevention, Control _ Containment of Avian Influenza.txt'\n",
      "[Errno 2] No such file or directory: 'C:\\\\Users\\\\9616k\\\\Documents\\\\CODES\\\\WebScrapLearning\\\\AgroDialogue\\\\DATA\\\\Vikaspedia\\\\Policies and Schemes\\\\Rural Employment related\\\\MGNREGA\\\\State-wise wage rate for unskilled manual workers under MGNREGA\\\\State-wise wage rate for unskilled manual workers under MGNREGA.txt'\n",
      "[Errno 2] No such file or directory: 'C:\\\\Users\\\\9616k\\\\Documents\\\\CODES\\\\WebScrapLearning\\\\AgroDialogue\\\\DATA\\\\Vikaspedia\\\\Post Harvest Technologies\\\\Established Standards _ practices\\\\First time in India, FSSAI notifies comprehensive regulatory standards for Basmati Rice\\\\First time in India, FSSAI notifies.txt'\n",
      "[Errno 2] No such file or directory: 'C:\\\\Users\\\\9616k\\\\Documents\\\\CODES\\\\WebScrapLearning\\\\AgroDialogue\\\\DATA\\\\Vikaspedia\\\\Women and agriculture\\\\Inspiring Stories of Progressive Women Farmers\\\\Adoption of High Yeilding Mustard for Higher Production\\\\Adoption of High Yeilding Mustard for Higher Production.txt'\n"
     ]
    }
   ],
   "source": [
    "source=\"Vikaspedia\"\n",
    "dest=\"RESULTS/NEWVIKASPEDIA\"\n",
    "for item in os.listdir(source):\n",
    "    item_path = os.path.join(source, item)\n",
    "    if os.path.isdir(item_path):\n",
    "            move(item_path, os.path.join(dest, item))  # Recursively call move function for directories\n",
    "             \n",
    "# move(source,dest)"
   ]
  },
  {
   "cell_type": "code",
   "execution_count": 14,
   "id": "c7c872f6-63c8-462c-8711-be0cc9989ae7",
   "metadata": {},
   "outputs": [],
   "source": [
    "source=\"RESULTS/NEWVIKASPEDIA\"\n",
    "for item in os.listdir(source):\n",
    "    item_path = os.path.join(source, item)\n",
    "    if os.path.isdir(item_path):\n",
    "        cleaned_name = clean_name(item)\n",
    "        new_item_path = os.path.join(source, cleaned_name)\n",
    "        os.rename(item_path, new_item_path)"
   ]
  },
  {
   "cell_type": "code",
   "execution_count": 4,
   "id": "3bc488f0-1c3b-4c10-b192-27d0f1af6cce",
   "metadata": {},
   "outputs": [
    {
     "name": "stdout",
     "output_type": "stream",
     "text": [
      "Priority sector lending\n",
      "Support from Banks\n"
     ]
    }
   ],
   "source": [
    "import os\n",
    "for item in os.listdir(\"Vikaspedia/Agri Credit/Credit Institutions\"):\n",
    "    print(item)"
   ]
  },
  {
   "cell_type": "code",
   "execution_count": null,
   "id": "fbc90660-d136-4179-b854-42247a87c9be",
   "metadata": {},
   "outputs": [],
   "source": []
  }
 ],
 "metadata": {
  "kernelspec": {
   "display_name": "Python 3 (ipykernel)",
   "language": "python",
   "name": "python3"
  },
  "language_info": {
   "codemirror_mode": {
    "name": "ipython",
    "version": 3
   },
   "file_extension": ".py",
   "mimetype": "text/x-python",
   "name": "python",
   "nbconvert_exporter": "python",
   "pygments_lexer": "ipython3",
   "version": "3.12.0"
  }
 },
 "nbformat": 4,
 "nbformat_minor": 5
}
