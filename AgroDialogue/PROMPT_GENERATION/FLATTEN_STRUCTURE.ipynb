{
 "cells": [
  {
   "cell_type": "code",
   "execution_count": 11,
   "id": "743556c5-2c32-4792-be1c-897f7d28be11",
   "metadata": {},
   "outputs": [],
   "source": [
    "import os\n",
    "import shutil\n",
    "from pathlib import Path\n",
    "dest=\"FILEBASED/NEWVIKASPEDIA\""
   ]
  },
  {
   "cell_type": "code",
   "execution_count": 7,
   "id": "799d7c87-62d8-422b-8a2c-277c02594445",
   "metadata": {},
   "outputs": [],
   "source": [
    "os.makedirs(dest, exist_ok=True)"
   ]
  },
  {
   "cell_type": "code",
   "execution_count": 8,
   "id": "3f8602d7-6905-4a9f-9d1d-f97c410b3429",
   "metadata": {},
   "outputs": [],
   "source": [
    "import re\n",
    "def clean_name(folder_name):\n",
    "    # Replace special characters in folder name with '-'\n",
    "    # For special cases like while scraping data for category: Guidelines for Release/Notification, Provisional Notification and De-notification of Cultivars\n",
    "    cleaned_name = re.sub(r'[\\/:*?\"<>| ]', '-', folder_name)\n",
    "    return cleaned_name"
   ]
  },
  {
   "cell_type": "code",
   "execution_count": 9,
   "id": "61b99461-3295-4cc2-89aa-07104679fa91",
   "metadata": {},
   "outputs": [],
   "source": [
    "def move(source,dest):\n",
    "    isExist = os.path.exists(source)\n",
    "    os.makedirs(dest, exist_ok=True)\n",
    "    if isExist is False:\n",
    "        return \"PATH DOES NOT  EXIST\"\n",
    "    try:\n",
    "        for item in os.listdir(source):\n",
    "            item_path = os.path.join(source, item)\n",
    "            if os.path.isdir(item_path):\n",
    "                move(item_path,dest)  # Recursively call move function for directories\n",
    "            else:\n",
    "                # print(item)\n",
    "                with open(os.path.join(os.getcwd(),item_path),\"r\",encoding=\"utf-8\") as c:\n",
    "                    with open(os.path.join(os.getcwd(),dest,clean_name(item)),\"w\",encoding=\"utf-8\") as nf:\n",
    "                        nf.write(c.read())\n",
    "                # print(f\"SUCCESS FOR {item}\")\n",
    "    except Exception as e:\n",
    "        print(e)"
   ]
  },
  {
   "cell_type": "code",
   "execution_count": 12,
   "id": "3b6c3d70-fa34-46b2-b0f8-e6097739a1ec",
   "metadata": {},
   "outputs": [],
   "source": [
    "source=\"CATEGORICAL_FORMATTED_VIKASPEDIA\"\n",
    "move(source,dest)"
   ]
  },
  {
   "cell_type": "code",
   "execution_count": 6,
   "id": "c7c872f6-63c8-462c-8711-be0cc9989ae7",
   "metadata": {},
   "outputs": [
    {
     "data": {
      "text/plain": [
       "'C:\\\\Users\\\\9616k\\\\Documents\\\\CODES\\\\WebScrapLearning\\\\AgroDialogue\\\\DATA'"
      ]
     },
     "execution_count": 6,
     "metadata": {},
     "output_type": "execute_result"
    }
   ],
   "source": [
    "os.getcwd()"
   ]
  },
  {
   "cell_type": "code",
   "execution_count": 31,
   "id": "4e82f599-4ec3-45c5-9a03-a6c36ff5bda0",
   "metadata": {},
   "outputs": [
    {
     "data": {
      "text/plain": [
       "'Cooperative-societies-in-agricultural-sector.txt'"
      ]
     },
     "execution_count": 31,
     "metadata": {},
     "output_type": "execute_result"
    }
   ],
   "source": [
    "clean_name(\"Cooperative societies in agricultural sector.txt\")"
   ]
  },
  {
   "cell_type": "code",
   "execution_count": null,
   "id": "3bc488f0-1c3b-4c10-b192-27d0f1af6cce",
   "metadata": {},
   "outputs": [],
   "source": []
  }
 ],
 "metadata": {
  "kernelspec": {
   "display_name": "Python 3 (ipykernel)",
   "language": "python",
   "name": "python3"
  },
  "language_info": {
   "codemirror_mode": {
    "name": "ipython",
    "version": 3
   },
   "file_extension": ".py",
   "mimetype": "text/x-python",
   "name": "python",
   "nbconvert_exporter": "python",
   "pygments_lexer": "ipython3",
   "version": "3.12.0"
  }
 },
 "nbformat": 4,
 "nbformat_minor": 5
}
