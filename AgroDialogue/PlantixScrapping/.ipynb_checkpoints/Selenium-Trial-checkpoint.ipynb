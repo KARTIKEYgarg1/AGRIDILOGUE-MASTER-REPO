{
 "cells": [
  {
   "cell_type": "code",
   "execution_count": 2,
   "id": "91feaa77-a2c1-4211-8968-afa4eadb4d33",
   "metadata": {},
   "outputs": [
    {
     "name": "stdout",
     "output_type": "stream",
     "text": [
      "Requirement already satisfied: selenium in c:\\users\\9616k\\documents\\codes\\webscraplearning\\venv\\lib\\site-packages (4.14.0)\n",
      "Requirement already satisfied: urllib3<3,>=1.26 in c:\\users\\9616k\\documents\\codes\\webscraplearning\\venv\\lib\\site-packages (from urllib3[socks]<3,>=1.26->selenium) (2.0.7)\n",
      "Requirement already satisfied: trio~=0.17 in c:\\users\\9616k\\documents\\codes\\webscraplearning\\venv\\lib\\site-packages (from selenium) (0.22.2)\n",
      "Requirement already satisfied: trio-websocket~=0.9 in c:\\users\\9616k\\documents\\codes\\webscraplearning\\venv\\lib\\site-packages (from selenium) (0.11.1)\n",
      "Requirement already satisfied: certifi>=2021.10.8 in c:\\users\\9616k\\documents\\codes\\webscraplearning\\venv\\lib\\site-packages (from selenium) (2023.7.22)\n",
      "Requirement already satisfied: attrs>=20.1.0 in c:\\users\\9616k\\documents\\codes\\webscraplearning\\venv\\lib\\site-packages (from trio~=0.17->selenium) (23.1.0)\n",
      "Requirement already satisfied: sortedcontainers in c:\\users\\9616k\\documents\\codes\\webscraplearning\\venv\\lib\\site-packages (from trio~=0.17->selenium) (2.4.0)\n",
      "Requirement already satisfied: idna in c:\\users\\9616k\\documents\\codes\\webscraplearning\\venv\\lib\\site-packages (from trio~=0.17->selenium) (3.4)\n",
      "Requirement already satisfied: outcome in c:\\users\\9616k\\documents\\codes\\webscraplearning\\venv\\lib\\site-packages (from trio~=0.17->selenium) (1.3.0.post0)\n",
      "Requirement already satisfied: sniffio in c:\\users\\9616k\\documents\\codes\\webscraplearning\\venv\\lib\\site-packages (from trio~=0.17->selenium) (1.3.0)\n",
      "Requirement already satisfied: cffi>=1.14 in c:\\users\\9616k\\documents\\codes\\webscraplearning\\venv\\lib\\site-packages (from trio~=0.17->selenium) (1.16.0)\n",
      "Requirement already satisfied: wsproto>=0.14 in c:\\users\\9616k\\documents\\codes\\webscraplearning\\venv\\lib\\site-packages (from trio-websocket~=0.9->selenium) (1.2.0)\n",
      "Requirement already satisfied: pysocks!=1.5.7,<2.0,>=1.5.6 in c:\\users\\9616k\\documents\\codes\\webscraplearning\\venv\\lib\\site-packages (from urllib3[socks]<3,>=1.26->selenium) (1.7.1)\n",
      "Requirement already satisfied: pycparser in c:\\users\\9616k\\documents\\codes\\webscraplearning\\venv\\lib\\site-packages (from cffi>=1.14->trio~=0.17->selenium) (2.21)\n",
      "Requirement already satisfied: h11<1,>=0.9.0 in c:\\users\\9616k\\documents\\codes\\webscraplearning\\venv\\lib\\site-packages (from wsproto>=0.14->trio-websocket~=0.9->selenium) (0.14.0)\n"
     ]
    }
   ],
   "source": [
    "!pip install selenium"
   ]
  },
  {
   "cell_type": "code",
   "execution_count": 2,
   "id": "81eb06eb-011e-4e51-94f0-e1a7f09a3077",
   "metadata": {},
   "outputs": [],
   "source": [
    "import selenium"
   ]
  },
  {
   "cell_type": "code",
   "execution_count": 3,
   "id": "22911c9c-710a-4046-bd9c-66a3feb7fbce",
   "metadata": {},
   "outputs": [],
   "source": [
    "NEW_URL=\"https://plantix.net/en/library/plant-diseases/500004/spider-mites/\""
   ]
  },
  {
   "cell_type": "code",
   "execution_count": 4,
   "id": "f4069f28-c207-456a-b5aa-77447d0e686a",
   "metadata": {},
   "outputs": [
    {
     "name": "stderr",
     "output_type": "stream",
     "text": [
      "<>:1: SyntaxWarning: invalid escape sequence '\\P'\n",
      "<>:1: SyntaxWarning: invalid escape sequence '\\P'\n",
      "C:\\Users\\9616k\\AppData\\Local\\Temp\\ipykernel_2172\\3645932109.py:1: SyntaxWarning: invalid escape sequence '\\P'\n",
      "  path=\"C:\\Program Files (x86)\\msedgedriver.exe\"\n"
     ]
    }
   ],
   "source": [
    "path=\"C:\\Program Files (x86)\\msedgedriver.exe\""
   ]
  },
  {
   "cell_type": "code",
   "execution_count": 14,
   "id": "1762c5f3-f5ce-43a6-8717-de766f490833",
   "metadata": {},
   "outputs": [],
   "source": [
    "from selenium import webdriver\n",
    "from selenium.webdriver.common.by import By\n",
    "import time\n",
    "str=\"\"\n",
    "driver = webdriver.Edge()\n",
    "\n",
    "driver.get(NEW_URL)\n",
    "# print(driver.title)\n",
    "# print(driver.page_source)\n",
    "\n",
    "\n",
    "element = driver.find_element(By.CLASS_NAME, 'disease-name')\n",
    "str=str+element.text\n",
    "\n",
    "\n",
    "symptoms = driver.find_element(By.CLASS_NAME, \"symptoms\")\n",
    "str=str+\"\\n\\n\"+symptoms.text\n",
    "\n",
    "str=str+\"\\n\\nProduct Recommendations\\n\"\n",
    "recommendations = driver.find_element(By.CLASS_NAME, \"product-recommendations\")\n",
    "str=str+recommendations.text\n",
    "\n",
    "triggerCard = driver.find_element(By.CLASS_NAME, \"trigger-card\")\n",
    "str=str+\"\\n\\n\"+triggerCard.text\n",
    "\n",
    "\n",
    "str=str+\"\\n\\nPreventive Measures \\n\"\n",
    "preventiveMeasures = driver.find_element(By.CLASS_NAME, \"preventive-measures-list\")\n",
    "str=str+preventiveMeasures.text\n",
    "\n",
    "\n",
    "# element.send_keys('WebDriver')\n",
    "# element.submit()\n",
    "# time.sleep(2)\n",
    "driver.quit()"
   ]
  },
  {
   "cell_type": "code",
   "execution_count": 15,
   "id": "507d2c2a-4ca4-42ee-867e-56336f240e86",
   "metadata": {
    "scrolled": true
   },
   "outputs": [
    {
     "data": {
      "text/plain": [
       "'Spider Mites\\nSymptoms\\nThe spider mites feeding causes white to yellow speckles to form on the upper surface of the leaves. As infestation becomes more severe, leaves appear bronzed or silvery first and then become brittle, rip open between the leaf veins, and finally fall off. Spider mite eggs can be found on undersides of leaves. The spider mite itself is located there, nesting in a cocoon resembling webbing. Infected plants will be covered by a web spun by the spider mites. Shoot tips can become bald and as a result, side shoots start to grow. In cases of heavy damage, the quantity, as well as quality of fruits, is reduced.\\nProduct Recommendations\\nOrganic Control\\nIn case of minor infestation, simply wash off the mites and remove the affected leaves. Use preparations based on rapeseed, basil, soybean and neem oils to spray leaves thoroughly and reduce populations of T. urticae. Also try garlic tea, nettle slurry or insecticidal soap solutions to control the population. In fields, employ host-specific biological control with predatory mites (for example Phytoseiulus persimilis) or the biological pesticide Bacillus thuringiensis. A second spray treatment application 2 to 3 days after the initial treatment is necessary.\\nChemical Control\\nAlways consider an integrated approach with preventive measures together with biological treatments if available. Spider mites are very difficult to control with acaricides because most populations develop resistance to different chemicals after a few years of use. Choose chemical control agents carefully so that they do not disrupt the population of predators. Insecticides based on wettable sulfur (3 g/l), spiromesifen (1 ml/l) or abamectin can be used for example (dilution in water). A second spray treatment application 2 to 3 days after the initial treatment is necessary.What caused it?\\nDamage is caused by spider mites from the genus Tetranychus, mainly T. urticae and T. cinnabarinus. The adult female is 0.6 mm long, pale green with two darker patches on its oval body, and long hairs on the back. Overwintering females are reddish. In spring, the females lay globular and translucent eggs on the underside of the leaves. The nymphs are pale green with darker markings on the dorsal side. The mites protect themselves with a cocoon on the underside of the leaf blades. The spider mite thrives in dry and hot climates and will produce up to 7 generations in one year in these conditions. There is a wide range of alternative hosts, including weeds.\\nPreventive Measures \\nPlant resistant varieties if available.\\nMonitor your field regularly and check the underside of leaves.\\nAlternatively, shake a few insects off the leaf surface onto a white sheet of paper.\\nRemove affected leaves or plants.\\nRemove nettles and other weeds from fields.\\nApply water to pathways and other dusty areas at regular intervals to avoid dusty conditions in the field.\\nWater your crop regularly as stressed trees and plants are less tolerant to spider mite damage.\\nControl the use of insecticides to allow beneficial insects to thrive.'"
      ]
     },
     "execution_count": 15,
     "metadata": {},
     "output_type": "execute_result"
    }
   ],
   "source": [
    "str"
   ]
  },
  {
   "cell_type": "code",
   "execution_count": 16,
   "id": "9cc1cb23-ed0e-4cbc-a9f8-b8aa13ef45b9",
   "metadata": {},
   "outputs": [],
   "source": [
    "with open(\"temp.txt\",\"w\",encoding=\"utf-8\") as file:\n",
    "    file.write(str)"
   ]
  },
  {
   "cell_type": "code",
   "execution_count": null,
   "id": "dbe7f993-512c-4faa-b25f-00c5e8a175ff",
   "metadata": {},
   "outputs": [],
   "source": []
  }
 ],
 "metadata": {
  "kernelspec": {
   "display_name": "Python 3 (ipykernel)",
   "language": "python",
   "name": "python3"
  },
  "language_info": {
   "codemirror_mode": {
    "name": "ipython",
    "version": 3
   },
   "file_extension": ".py",
   "mimetype": "text/x-python",
   "name": "python",
   "nbconvert_exporter": "python",
   "pygments_lexer": "ipython3",
   "version": "3.12.0"
  }
 },
 "nbformat": 4,
 "nbformat_minor": 5
}
