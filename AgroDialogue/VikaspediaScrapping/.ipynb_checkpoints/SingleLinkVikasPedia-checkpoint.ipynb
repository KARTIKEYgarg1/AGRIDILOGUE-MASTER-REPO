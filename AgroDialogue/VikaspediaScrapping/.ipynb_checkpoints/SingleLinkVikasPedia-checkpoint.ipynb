{
 "cells": [
  {
   "cell_type": "code",
   "execution_count": 34,
   "id": "fc1da181-9500-41cd-ae3b-ecbd6601ebfe",
   "metadata": {},
   "outputs": [],
   "source": [
    "import requests\n",
    "from bs4 import BeautifulSoup\n",
    "def fetchData(URL):\n",
    "    dat=requests.get(URL,verify=False)\n",
    "    soup=BeautifulSoup(dat.text,\"html.parser\")\n",
    "    MiddleColumn = soup.find('div', id='MiddleColumn_internal')\n",
    "    # Remove all <a> tags from MiddleColumn\n",
    "    for a_tag in MiddleColumn.find_all('a'):\n",
    "        a_tag.decompose()\n",
    "    # Remove all tags and add only text\n",
    "    text_content = ''\n",
    "    for element in MiddleColumn.contents:\n",
    "        if element.name == 'h3':\n",
    "            text_content += str(element.text) + '\\n\\n\\n'\n",
    "        if element.name == 'h4':\n",
    "            text_content += str(element.text) + '\\n\\n'\n",
    "        if element.name == 'p':\n",
    "            text_content += str(element.text) + '\\n'\n",
    "        else:\n",
    "            text_content += str(element)\n",
    "    # Remove HTML tags using regular expression\n",
    "    return re.sub(r'<.*?>', '', text_content)"
   ]
  },
  {
   "cell_type": "code",
   "execution_count": 35,
   "id": "55722832-6708-422e-969a-b1b7d3a30040",
   "metadata": {},
   "outputs": [
    {
     "name": "stderr",
     "output_type": "stream",
     "text": [
      "C:\\Users\\9616k\\AppData\\Local\\Programs\\Python\\Python312\\Lib\\site-packages\\urllib3\\connectionpool.py:1100: InsecureRequestWarning: Unverified HTTPS request is being made to host 'vikaspedia.in'. Adding certificate verification is strongly advised. See: https://urllib3.readthedocs.io/en/latest/advanced-usage.html#tls-warnings\n",
      "  warnings.warn(\n"
     ]
    }
   ],
   "source": [
    "clean_text=fetchData(\"https://vikaspedia.in/agriculture/agri-credit/revised-kisan-credit-card-scheme\")\n",
    "with open(\"singleContent.txt\",\"w\") as file:\n",
    "    file.write(clean_text)"
   ]
  },
  {
   "cell_type": "code",
   "execution_count": null,
   "id": "2fd3008d-d545-4773-a46a-eb28a346068d",
   "metadata": {},
   "outputs": [],
   "source": []
  }
 ],
 "metadata": {
  "kernelspec": {
   "display_name": "Python 3 (ipykernel)",
   "language": "python",
   "name": "python3"
  },
  "language_info": {
   "codemirror_mode": {
    "name": "ipython",
    "version": 3
   },
   "file_extension": ".py",
   "mimetype": "text/x-python",
   "name": "python",
   "nbconvert_exporter": "python",
   "pygments_lexer": "ipython3",
   "version": "3.12.0"
  }
 },
 "nbformat": 4,
 "nbformat_minor": 5
}
