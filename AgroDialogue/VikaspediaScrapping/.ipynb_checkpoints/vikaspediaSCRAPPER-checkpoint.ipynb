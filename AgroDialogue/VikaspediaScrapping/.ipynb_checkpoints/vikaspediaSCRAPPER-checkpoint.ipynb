{
 "cells": [
  {
   "cell_type": "raw",
   "id": "9120db12-210c-4dc7-9edd-27e2d128aee6",
   "metadata": {},
   "source": [
    "from bs4 import BeautifulSoup\n",
    "import requests\n",
    "def webScrape(url,res={}):\n",
    "    dat=requests.get(url,verify=False)\n",
    "    soup=BeautifulSoup(dat.text,\"html.parser\")\n",
    "    a_tag = soup.find_all('a', class_='folderfile_name')\n",
    "    if(len(a_tag)==0): return 'END'\n",
    "    for i in a_tag[:2]:\n",
    "       res1[i.text]=[]\n",
    "       res[i.text]=[]\n",
    "       res[i.text].append(webScrape(BASE_URL+i.get(\"href\")))\n",
    "    return res"
   ]
  },
  {
   "cell_type": "raw",
   "id": "e95f05fb-d413-4b6b-b985-c77ff43ce8cd",
   "metadata": {},
   "source": [
    "webScrape(BASE_URL+\"/agriculture\")"
   ]
  },
  {
   "cell_type": "code",
   "execution_count": 1,
   "id": "87227873-17e8-4749-849d-e7beec38c335",
   "metadata": {},
   "outputs": [],
   "source": [
    "BASE_URL=\"https://vikaspedia.in\""
   ]
  },
  {
   "cell_type": "code",
   "execution_count": 2,
   "id": "beaec1d6-f252-48ba-97ce-4e4ab870dc4a",
   "metadata": {},
   "outputs": [],
   "source": [
    "from bs4 import BeautifulSoup\n",
    "import requests\n",
    "import time\n",
    "def webScrape(url):\n",
    "    time.sleep(20)\n",
    "    data = requests.get(url, verify=False)\n",
    "    soup = BeautifulSoup(data.text, \"html.parser\")\n",
    "    a_tags = soup.find_all('a', class_='folderfile_name')\n",
    "    result = []\n",
    "    if a_tags:\n",
    "        for tag in a_tags[:4]:\n",
    "            category_name = tag.text.strip()\n",
    "            print(category_name)\n",
    "            category_url = BASE_URL + tag.get('href')\n",
    "            subcategories = webScrape(category_url)\n",
    "            result.append({category_name: subcategories})\n",
    "    else:\n",
    "        title = soup.find('h3', class_='card-title title')\n",
    "        return \"SCRAPPED DATA FOR \" + title.text\n",
    "\n",
    "    return result"
   ]
  },
  {
   "cell_type": "code",
   "execution_count": 3,
   "id": "7462fcaf-65fd-4442-bf0c-e9d570d5206a",
   "metadata": {},
   "outputs": [
    {
     "name": "stderr",
     "output_type": "stream",
     "text": [
      "C:\\Users\\9616k\\AppData\\Local\\Programs\\Python\\Python312\\Lib\\site-packages\\urllib3\\connectionpool.py:1100: InsecureRequestWarning: Unverified HTTPS request is being made to host 'vikaspedia.in'. Adding certificate verification is strongly advised. See: https://urllib3.readthedocs.io/en/latest/advanced-usage.html#tls-warnings\n",
      "  warnings.warn(\n"
     ]
    },
    {
     "name": "stdout",
     "output_type": "stream",
     "text": [
      "Agri Credit\n"
     ]
    },
    {
     "name": "stderr",
     "output_type": "stream",
     "text": [
      "C:\\Users\\9616k\\AppData\\Local\\Programs\\Python\\Python312\\Lib\\site-packages\\urllib3\\connectionpool.py:1100: InsecureRequestWarning: Unverified HTTPS request is being made to host 'vikaspedia.in'. Adding certificate verification is strongly advised. See: https://urllib3.readthedocs.io/en/latest/advanced-usage.html#tls-warnings\n",
      "  warnings.warn(\n"
     ]
    },
    {
     "name": "stdout",
     "output_type": "stream",
     "text": [
      "Cooperative societies in agricultural sector\n"
     ]
    },
    {
     "name": "stderr",
     "output_type": "stream",
     "text": [
      "C:\\Users\\9616k\\AppData\\Local\\Programs\\Python\\Python312\\Lib\\site-packages\\urllib3\\connectionpool.py:1100: InsecureRequestWarning: Unverified HTTPS request is being made to host 'vikaspedia.in'. Adding certificate verification is strongly advised. See: https://urllib3.readthedocs.io/en/latest/advanced-usage.html#tls-warnings\n",
      "  warnings.warn(\n"
     ]
    },
    {
     "name": "stdout",
     "output_type": "stream",
     "text": [
      "Credit Institutions\n"
     ]
    },
    {
     "name": "stderr",
     "output_type": "stream",
     "text": [
      "C:\\Users\\9616k\\AppData\\Local\\Programs\\Python\\Python312\\Lib\\site-packages\\urllib3\\connectionpool.py:1100: InsecureRequestWarning: Unverified HTTPS request is being made to host 'vikaspedia.in'. Adding certificate verification is strongly advised. See: https://urllib3.readthedocs.io/en/latest/advanced-usage.html#tls-warnings\n",
      "  warnings.warn(\n"
     ]
    },
    {
     "name": "stdout",
     "output_type": "stream",
     "text": [
      "Priority sector lending\n"
     ]
    },
    {
     "name": "stderr",
     "output_type": "stream",
     "text": [
      "C:\\Users\\9616k\\AppData\\Local\\Programs\\Python\\Python312\\Lib\\site-packages\\urllib3\\connectionpool.py:1100: InsecureRequestWarning: Unverified HTTPS request is being made to host 'vikaspedia.in'. Adding certificate verification is strongly advised. See: https://urllib3.readthedocs.io/en/latest/advanced-usage.html#tls-warnings\n",
      "  warnings.warn(\n"
     ]
    },
    {
     "name": "stdout",
     "output_type": "stream",
     "text": [
      "Support from Banks\n"
     ]
    },
    {
     "name": "stderr",
     "output_type": "stream",
     "text": [
      "C:\\Users\\9616k\\AppData\\Local\\Programs\\Python\\Python312\\Lib\\site-packages\\urllib3\\connectionpool.py:1100: InsecureRequestWarning: Unverified HTTPS request is being made to host 'vikaspedia.in'. Adding certificate verification is strongly advised. See: https://urllib3.readthedocs.io/en/latest/advanced-usage.html#tls-warnings\n",
      "  warnings.warn(\n"
     ]
    },
    {
     "name": "stdout",
     "output_type": "stream",
     "text": [
      "Interest subvention scheme for farmers\n"
     ]
    },
    {
     "name": "stderr",
     "output_type": "stream",
     "text": [
      "C:\\Users\\9616k\\AppData\\Local\\Programs\\Python\\Python312\\Lib\\site-packages\\urllib3\\connectionpool.py:1100: InsecureRequestWarning: Unverified HTTPS request is being made to host 'vikaspedia.in'. Adding certificate verification is strongly advised. See: https://urllib3.readthedocs.io/en/latest/advanced-usage.html#tls-warnings\n",
      "  warnings.warn(\n"
     ]
    },
    {
     "name": "stdout",
     "output_type": "stream",
     "text": [
      "Revised Kisan Credit Card Scheme\n"
     ]
    },
    {
     "name": "stderr",
     "output_type": "stream",
     "text": [
      "C:\\Users\\9616k\\AppData\\Local\\Programs\\Python\\Python312\\Lib\\site-packages\\urllib3\\connectionpool.py:1100: InsecureRequestWarning: Unverified HTTPS request is being made to host 'vikaspedia.in'. Adding certificate verification is strongly advised. See: https://urllib3.readthedocs.io/en/latest/advanced-usage.html#tls-warnings\n",
      "  warnings.warn(\n"
     ]
    },
    {
     "name": "stdout",
     "output_type": "stream",
     "text": [
      "Agri Directory\n"
     ]
    },
    {
     "name": "stderr",
     "output_type": "stream",
     "text": [
      "C:\\Users\\9616k\\AppData\\Local\\Programs\\Python\\Python312\\Lib\\site-packages\\urllib3\\connectionpool.py:1100: InsecureRequestWarning: Unverified HTTPS request is being made to host 'vikaspedia.in'. Adding certificate verification is strongly advised. See: https://urllib3.readthedocs.io/en/latest/advanced-usage.html#tls-warnings\n",
      "  warnings.warn(\n"
     ]
    },
    {
     "name": "stdout",
     "output_type": "stream",
     "text": [
      "Globally Important Agricultural Heritage Systems in India\n"
     ]
    },
    {
     "name": "stderr",
     "output_type": "stream",
     "text": [
      "C:\\Users\\9616k\\AppData\\Local\\Programs\\Python\\Python312\\Lib\\site-packages\\urllib3\\connectionpool.py:1100: InsecureRequestWarning: Unverified HTTPS request is being made to host 'vikaspedia.in'. Adding certificate verification is strongly advised. See: https://urllib3.readthedocs.io/en/latest/advanced-usage.html#tls-warnings\n",
      "  warnings.warn(\n"
     ]
    },
    {
     "name": "stdout",
     "output_type": "stream",
     "text": [
      "Agricultural Technology Information Centre\n"
     ]
    },
    {
     "name": "stderr",
     "output_type": "stream",
     "text": [
      "C:\\Users\\9616k\\AppData\\Local\\Programs\\Python\\Python312\\Lib\\site-packages\\urllib3\\connectionpool.py:1100: InsecureRequestWarning: Unverified HTTPS request is being made to host 'vikaspedia.in'. Adding certificate verification is strongly advised. See: https://urllib3.readthedocs.io/en/latest/advanced-usage.html#tls-warnings\n",
      "  warnings.warn(\n"
     ]
    },
    {
     "name": "stdout",
     "output_type": "stream",
     "text": [
      "Agricultural Technology Information Centre\n"
     ]
    },
    {
     "name": "stderr",
     "output_type": "stream",
     "text": [
      "C:\\Users\\9616k\\AppData\\Local\\Programs\\Python\\Python312\\Lib\\site-packages\\urllib3\\connectionpool.py:1100: InsecureRequestWarning: Unverified HTTPS request is being made to host 'vikaspedia.in'. Adding certificate verification is strongly advised. See: https://urllib3.readthedocs.io/en/latest/advanced-usage.html#tls-warnings\n",
      "  warnings.warn(\n"
     ]
    },
    {
     "name": "stdout",
     "output_type": "stream",
     "text": [
      "Commodity Boards\n"
     ]
    },
    {
     "name": "stderr",
     "output_type": "stream",
     "text": [
      "C:\\Users\\9616k\\AppData\\Local\\Programs\\Python\\Python312\\Lib\\site-packages\\urllib3\\connectionpool.py:1100: InsecureRequestWarning: Unverified HTTPS request is being made to host 'vikaspedia.in'. Adding certificate verification is strongly advised. See: https://urllib3.readthedocs.io/en/latest/advanced-usage.html#tls-warnings\n",
      "  warnings.warn(\n"
     ]
    },
    {
     "name": "stdout",
     "output_type": "stream",
     "text": [
      "Agri Exports\n"
     ]
    },
    {
     "name": "stderr",
     "output_type": "stream",
     "text": [
      "C:\\Users\\9616k\\AppData\\Local\\Programs\\Python\\Python312\\Lib\\site-packages\\urllib3\\connectionpool.py:1100: InsecureRequestWarning: Unverified HTTPS request is being made to host 'vikaspedia.in'. Adding certificate verification is strongly advised. See: https://urllib3.readthedocs.io/en/latest/advanced-usage.html#tls-warnings\n",
      "  warnings.warn(\n"
     ]
    },
    {
     "name": "stdout",
     "output_type": "stream",
     "text": [
      "Agri commodities for export\n"
     ]
    },
    {
     "name": "stderr",
     "output_type": "stream",
     "text": [
      "C:\\Users\\9616k\\AppData\\Local\\Programs\\Python\\Python312\\Lib\\site-packages\\urllib3\\connectionpool.py:1100: InsecureRequestWarning: Unverified HTTPS request is being made to host 'vikaspedia.in'. Adding certificate verification is strongly advised. See: https://urllib3.readthedocs.io/en/latest/advanced-usage.html#tls-warnings\n",
      "  warnings.warn(\n"
     ]
    },
    {
     "name": "stdout",
     "output_type": "stream",
     "text": [
      "Agriculture Export Policy 2018\n"
     ]
    },
    {
     "name": "stderr",
     "output_type": "stream",
     "text": [
      "C:\\Users\\9616k\\AppData\\Local\\Programs\\Python\\Python312\\Lib\\site-packages\\urllib3\\connectionpool.py:1100: InsecureRequestWarning: Unverified HTTPS request is being made to host 'vikaspedia.in'. Adding certificate verification is strongly advised. See: https://urllib3.readthedocs.io/en/latest/advanced-usage.html#tls-warnings\n",
      "  warnings.warn(\n"
     ]
    },
    {
     "name": "stdout",
     "output_type": "stream",
     "text": [
      "Export of Agricultural and processed food products\n"
     ]
    },
    {
     "name": "stderr",
     "output_type": "stream",
     "text": [
      "C:\\Users\\9616k\\AppData\\Local\\Programs\\Python\\Python312\\Lib\\site-packages\\urllib3\\connectionpool.py:1100: InsecureRequestWarning: Unverified HTTPS request is being made to host 'vikaspedia.in'. Adding certificate verification is strongly advised. See: https://urllib3.readthedocs.io/en/latest/advanced-usage.html#tls-warnings\n",
      "  warnings.warn(\n"
     ]
    },
    {
     "name": "stdout",
     "output_type": "stream",
     "text": [
      "Export policy of broken rice amended to ensure adequate domestic availability\n"
     ]
    },
    {
     "name": "stderr",
     "output_type": "stream",
     "text": [
      "C:\\Users\\9616k\\AppData\\Local\\Programs\\Python\\Python312\\Lib\\site-packages\\urllib3\\connectionpool.py:1100: InsecureRequestWarning: Unverified HTTPS request is being made to host 'vikaspedia.in'. Adding certificate verification is strongly advised. See: https://urllib3.readthedocs.io/en/latest/advanced-usage.html#tls-warnings\n",
      "  warnings.warn(\n"
     ]
    },
    {
     "name": "stdout",
     "output_type": "stream",
     "text": [
      "Agri Inputs\n"
     ]
    },
    {
     "name": "stderr",
     "output_type": "stream",
     "text": [
      "C:\\Users\\9616k\\AppData\\Local\\Programs\\Python\\Python312\\Lib\\site-packages\\urllib3\\connectionpool.py:1100: InsecureRequestWarning: Unverified HTTPS request is being made to host 'vikaspedia.in'. Adding certificate verification is strongly advised. See: https://urllib3.readthedocs.io/en/latest/advanced-usage.html#tls-warnings\n",
      "  warnings.warn(\n"
     ]
    },
    {
     "name": "stdout",
     "output_type": "stream",
     "text": [
      "Bio-inputs\n"
     ]
    },
    {
     "name": "stderr",
     "output_type": "stream",
     "text": [
      "C:\\Users\\9616k\\AppData\\Local\\Programs\\Python\\Python312\\Lib\\site-packages\\urllib3\\connectionpool.py:1100: InsecureRequestWarning: Unverified HTTPS request is being made to host 'vikaspedia.in'. Adding certificate verification is strongly advised. See: https://urllib3.readthedocs.io/en/latest/advanced-usage.html#tls-warnings\n",
      "  warnings.warn(\n"
     ]
    },
    {
     "name": "stdout",
     "output_type": "stream",
     "text": [
      "Actinomycetes\n"
     ]
    },
    {
     "name": "stderr",
     "output_type": "stream",
     "text": [
      "C:\\Users\\9616k\\AppData\\Local\\Programs\\Python\\Python312\\Lib\\site-packages\\urllib3\\connectionpool.py:1100: InsecureRequestWarning: Unverified HTTPS request is being made to host 'vikaspedia.in'. Adding certificate verification is strongly advised. See: https://urllib3.readthedocs.io/en/latest/advanced-usage.html#tls-warnings\n",
      "  warnings.warn(\n"
     ]
    },
    {
     "name": "stdout",
     "output_type": "stream",
     "text": [
      "Actinomycetes for effective management of plant diseases and nematodes\n"
     ]
    },
    {
     "name": "stderr",
     "output_type": "stream",
     "text": [
      "C:\\Users\\9616k\\AppData\\Local\\Programs\\Python\\Python312\\Lib\\site-packages\\urllib3\\connectionpool.py:1100: InsecureRequestWarning: Unverified HTTPS request is being made to host 'vikaspedia.in'. Adding certificate verification is strongly advised. See: https://urllib3.readthedocs.io/en/latest/advanced-usage.html#tls-warnings\n",
      "  warnings.warn(\n"
     ]
    },
    {
     "name": "stdout",
     "output_type": "stream",
     "text": [
      "Role of actinomycetes in the management of plant parasitic nematodes\n"
     ]
    },
    {
     "name": "stderr",
     "output_type": "stream",
     "text": [
      "C:\\Users\\9616k\\AppData\\Local\\Programs\\Python\\Python312\\Lib\\site-packages\\urllib3\\connectionpool.py:1100: InsecureRequestWarning: Unverified HTTPS request is being made to host 'vikaspedia.in'. Adding certificate verification is strongly advised. See: https://urllib3.readthedocs.io/en/latest/advanced-usage.html#tls-warnings\n",
      "  warnings.warn(\n"
     ]
    },
    {
     "name": "stdout",
     "output_type": "stream",
     "text": [
      "Bioinputs for Nutrient management\n"
     ]
    },
    {
     "name": "stderr",
     "output_type": "stream",
     "text": [
      "C:\\Users\\9616k\\AppData\\Local\\Programs\\Python\\Python312\\Lib\\site-packages\\urllib3\\connectionpool.py:1100: InsecureRequestWarning: Unverified HTTPS request is being made to host 'vikaspedia.in'. Adding certificate verification is strongly advised. See: https://urllib3.readthedocs.io/en/latest/advanced-usage.html#tls-warnings\n",
      "  warnings.warn(\n"
     ]
    },
    {
     "name": "stdout",
     "output_type": "stream",
     "text": [
      "Biofertilizers\n"
     ]
    },
    {
     "name": "stderr",
     "output_type": "stream",
     "text": [
      "C:\\Users\\9616k\\AppData\\Local\\Programs\\Python\\Python312\\Lib\\site-packages\\urllib3\\connectionpool.py:1100: InsecureRequestWarning: Unverified HTTPS request is being made to host 'vikaspedia.in'. Adding certificate verification is strongly advised. See: https://urllib3.readthedocs.io/en/latest/advanced-usage.html#tls-warnings\n",
      "  warnings.warn(\n"
     ]
    },
    {
     "name": "stdout",
     "output_type": "stream",
     "text": [
      "Compost from farm-waste\n"
     ]
    },
    {
     "name": "stderr",
     "output_type": "stream",
     "text": [
      "C:\\Users\\9616k\\AppData\\Local\\Programs\\Python\\Python312\\Lib\\site-packages\\urllib3\\connectionpool.py:1100: InsecureRequestWarning: Unverified HTTPS request is being made to host 'vikaspedia.in'. Adding certificate verification is strongly advised. See: https://urllib3.readthedocs.io/en/latest/advanced-usage.html#tls-warnings\n",
      "  warnings.warn(\n"
     ]
    },
    {
     "name": "stdout",
     "output_type": "stream",
     "text": [
      "Compost from Parthenium\n"
     ]
    },
    {
     "name": "stderr",
     "output_type": "stream",
     "text": [
      "C:\\Users\\9616k\\AppData\\Local\\Programs\\Python\\Python312\\Lib\\site-packages\\urllib3\\connectionpool.py:1100: InsecureRequestWarning: Unverified HTTPS request is being made to host 'vikaspedia.in'. Adding certificate verification is strongly advised. See: https://urllib3.readthedocs.io/en/latest/advanced-usage.html#tls-warnings\n",
      "  warnings.warn(\n"
     ]
    },
    {
     "name": "stdout",
     "output_type": "stream",
     "text": [
      "Dasagavya\n"
     ]
    },
    {
     "name": "stderr",
     "output_type": "stream",
     "text": [
      "C:\\Users\\9616k\\AppData\\Local\\Programs\\Python\\Python312\\Lib\\site-packages\\urllib3\\connectionpool.py:1100: InsecureRequestWarning: Unverified HTTPS request is being made to host 'vikaspedia.in'. Adding certificate verification is strongly advised. See: https://urllib3.readthedocs.io/en/latest/advanced-usage.html#tls-warnings\n",
      "  warnings.warn(\n"
     ]
    },
    {
     "name": "stdout",
     "output_type": "stream",
     "text": [
      "Brown manuring\n"
     ]
    },
    {
     "name": "stderr",
     "output_type": "stream",
     "text": [
      "C:\\Users\\9616k\\AppData\\Local\\Programs\\Python\\Python312\\Lib\\site-packages\\urllib3\\connectionpool.py:1100: InsecureRequestWarning: Unverified HTTPS request is being made to host 'vikaspedia.in'. Adding certificate verification is strongly advised. See: https://urllib3.readthedocs.io/en/latest/advanced-usage.html#tls-warnings\n",
      "  warnings.warn(\n"
     ]
    },
    {
     "name": "stdout",
     "output_type": "stream",
     "text": [
      "Mexican beetle for Parthenium management\n"
     ]
    },
    {
     "name": "stderr",
     "output_type": "stream",
     "text": [
      "C:\\Users\\9616k\\AppData\\Local\\Programs\\Python\\Python312\\Lib\\site-packages\\urllib3\\connectionpool.py:1100: InsecureRequestWarning: Unverified HTTPS request is being made to host 'vikaspedia.in'. Adding certificate verification is strongly advised. See: https://urllib3.readthedocs.io/en/latest/advanced-usage.html#tls-warnings\n",
      "  warnings.warn(\n"
     ]
    },
    {
     "name": "stdout",
     "output_type": "stream",
     "text": [
      "Farm Machinary\n"
     ]
    },
    {
     "name": "stderr",
     "output_type": "stream",
     "text": [
      "C:\\Users\\9616k\\AppData\\Local\\Programs\\Python\\Python312\\Lib\\site-packages\\urllib3\\connectionpool.py:1100: InsecureRequestWarning: Unverified HTTPS request is being made to host 'vikaspedia.in'. Adding certificate verification is strongly advised. See: https://urllib3.readthedocs.io/en/latest/advanced-usage.html#tls-warnings\n",
      "  warnings.warn(\n"
     ]
    },
    {
     "name": "stdout",
     "output_type": "stream",
     "text": [
      "Solar Insect Trapper\n"
     ]
    },
    {
     "name": "stderr",
     "output_type": "stream",
     "text": [
      "C:\\Users\\9616k\\AppData\\Local\\Programs\\Python\\Python312\\Lib\\site-packages\\urllib3\\connectionpool.py:1100: InsecureRequestWarning: Unverified HTTPS request is being made to host 'vikaspedia.in'. Adding certificate verification is strongly advised. See: https://urllib3.readthedocs.io/en/latest/advanced-usage.html#tls-warnings\n",
      "  warnings.warn(\n"
     ]
    },
    {
     "name": "stdout",
     "output_type": "stream",
     "text": [
      "Drip irrigation system\n"
     ]
    },
    {
     "name": "stderr",
     "output_type": "stream",
     "text": [
      "C:\\Users\\9616k\\AppData\\Local\\Programs\\Python\\Python312\\Lib\\site-packages\\urllib3\\connectionpool.py:1100: InsecureRequestWarning: Unverified HTTPS request is being made to host 'vikaspedia.in'. Adding certificate verification is strongly advised. See: https://urllib3.readthedocs.io/en/latest/advanced-usage.html#tls-warnings\n",
      "  warnings.warn(\n"
     ]
    },
    {
     "name": "stdout",
     "output_type": "stream",
     "text": [
      "National database on post-harvest machinery\n"
     ]
    },
    {
     "name": "stderr",
     "output_type": "stream",
     "text": [
      "C:\\Users\\9616k\\AppData\\Local\\Programs\\Python\\Python312\\Lib\\site-packages\\urllib3\\connectionpool.py:1100: InsecureRequestWarning: Unverified HTTPS request is being made to host 'vikaspedia.in'. Adding certificate verification is strongly advised. See: https://urllib3.readthedocs.io/en/latest/advanced-usage.html#tls-warnings\n",
      "  warnings.warn(\n"
     ]
    },
    {
     "name": "stdout",
     "output_type": "stream",
     "text": [
      "Sprinkler Irrigation System\n"
     ]
    },
    {
     "name": "stderr",
     "output_type": "stream",
     "text": [
      "C:\\Users\\9616k\\AppData\\Local\\Programs\\Python\\Python312\\Lib\\site-packages\\urllib3\\connectionpool.py:1100: InsecureRequestWarning: Unverified HTTPS request is being made to host 'vikaspedia.in'. Adding certificate verification is strongly advised. See: https://urllib3.readthedocs.io/en/latest/advanced-usage.html#tls-warnings\n",
      "  warnings.warn(\n"
     ]
    },
    {
     "name": "stdout",
     "output_type": "stream",
     "text": [
      "Inorganic inputs\n"
     ]
    },
    {
     "name": "stderr",
     "output_type": "stream",
     "text": [
      "C:\\Users\\9616k\\AppData\\Local\\Programs\\Python\\Python312\\Lib\\site-packages\\urllib3\\connectionpool.py:1100: InsecureRequestWarning: Unverified HTTPS request is being made to host 'vikaspedia.in'. Adding certificate verification is strongly advised. See: https://urllib3.readthedocs.io/en/latest/advanced-usage.html#tls-warnings\n",
      "  warnings.warn(\n"
     ]
    },
    {
     "name": "stdout",
     "output_type": "stream",
     "text": [
      "Fertilizer related schemes\n"
     ]
    },
    {
     "name": "stderr",
     "output_type": "stream",
     "text": [
      "C:\\Users\\9616k\\AppData\\Local\\Programs\\Python\\Python312\\Lib\\site-packages\\urllib3\\connectionpool.py:1100: InsecureRequestWarning: Unverified HTTPS request is being made to host 'vikaspedia.in'. Adding certificate verification is strongly advised. See: https://urllib3.readthedocs.io/en/latest/advanced-usage.html#tls-warnings\n",
      "  warnings.warn(\n"
     ]
    },
    {
     "name": "stdout",
     "output_type": "stream",
     "text": [
      "Nano Urea\n"
     ]
    },
    {
     "name": "stderr",
     "output_type": "stream",
     "text": [
      "C:\\Users\\9616k\\AppData\\Local\\Programs\\Python\\Python312\\Lib\\site-packages\\urllib3\\connectionpool.py:1100: InsecureRequestWarning: Unverified HTTPS request is being made to host 'vikaspedia.in'. Adding certificate verification is strongly advised. See: https://urllib3.readthedocs.io/en/latest/advanced-usage.html#tls-warnings\n",
      "  warnings.warn(\n"
     ]
    },
    {
     "name": "stdout",
     "output_type": "stream",
     "text": [
      "Neem coated urea\n"
     ]
    },
    {
     "name": "stderr",
     "output_type": "stream",
     "text": [
      "C:\\Users\\9616k\\AppData\\Local\\Programs\\Python\\Python312\\Lib\\site-packages\\urllib3\\connectionpool.py:1100: InsecureRequestWarning: Unverified HTTPS request is being made to host 'vikaspedia.in'. Adding certificate verification is strongly advised. See: https://urllib3.readthedocs.io/en/latest/advanced-usage.html#tls-warnings\n",
      "  warnings.warn(\n"
     ]
    },
    {
     "name": "stdout",
     "output_type": "stream",
     "text": [
      "Revolutionize farming with nano silver hydrogen peroxide for Agriculture\n"
     ]
    },
    {
     "name": "stderr",
     "output_type": "stream",
     "text": [
      "C:\\Users\\9616k\\AppData\\Local\\Programs\\Python\\Python312\\Lib\\site-packages\\urllib3\\connectionpool.py:1100: InsecureRequestWarning: Unverified HTTPS request is being made to host 'vikaspedia.in'. Adding certificate verification is strongly advised. See: https://urllib3.readthedocs.io/en/latest/advanced-usage.html#tls-warnings\n",
      "  warnings.warn(\n"
     ]
    },
    {
     "name": "stdout",
     "output_type": "stream",
     "text": [
      "Seeds\n"
     ]
    },
    {
     "name": "stderr",
     "output_type": "stream",
     "text": [
      "C:\\Users\\9616k\\AppData\\Local\\Programs\\Python\\Python312\\Lib\\site-packages\\urllib3\\connectionpool.py:1100: InsecureRequestWarning: Unverified HTTPS request is being made to host 'vikaspedia.in'. Adding certificate verification is strongly advised. See: https://urllib3.readthedocs.io/en/latest/advanced-usage.html#tls-warnings\n",
      "  warnings.warn(\n"
     ]
    },
    {
     "name": "stdout",
     "output_type": "stream",
     "text": [
      "Classes of seeds\n"
     ]
    },
    {
     "name": "stderr",
     "output_type": "stream",
     "text": [
      "C:\\Users\\9616k\\AppData\\Local\\Programs\\Python\\Python312\\Lib\\site-packages\\urllib3\\connectionpool.py:1100: InsecureRequestWarning: Unverified HTTPS request is being made to host 'vikaspedia.in'. Adding certificate verification is strongly advised. See: https://urllib3.readthedocs.io/en/latest/advanced-usage.html#tls-warnings\n",
      "  warnings.warn(\n"
     ]
    },
    {
     "name": "stdout",
     "output_type": "stream",
     "text": [
      "Crop varieties in India\n"
     ]
    },
    {
     "name": "stderr",
     "output_type": "stream",
     "text": [
      "C:\\Users\\9616k\\AppData\\Local\\Programs\\Python\\Python312\\Lib\\site-packages\\urllib3\\connectionpool.py:1100: InsecureRequestWarning: Unverified HTTPS request is being made to host 'vikaspedia.in'. Adding certificate verification is strongly advised. See: https://urllib3.readthedocs.io/en/latest/advanced-usage.html#tls-warnings\n",
      "  warnings.warn(\n"
     ]
    },
    {
     "name": "stdout",
     "output_type": "stream",
     "text": [
      "Guidelines for Release/Notification, Provisional Notification and De-notification of Cultivars\n"
     ]
    },
    {
     "name": "stderr",
     "output_type": "stream",
     "text": [
      "C:\\Users\\9616k\\AppData\\Local\\Programs\\Python\\Python312\\Lib\\site-packages\\urllib3\\connectionpool.py:1100: InsecureRequestWarning: Unverified HTTPS request is being made to host 'vikaspedia.in'. Adding certificate verification is strongly advised. See: https://urllib3.readthedocs.io/en/latest/advanced-usage.html#tls-warnings\n",
      "  warnings.warn(\n"
     ]
    },
    {
     "name": "stdout",
     "output_type": "stream",
     "text": [
      "Planting material\n"
     ]
    },
    {
     "name": "stderr",
     "output_type": "stream",
     "text": [
      "C:\\Users\\9616k\\AppData\\Local\\Programs\\Python\\Python312\\Lib\\site-packages\\urllib3\\connectionpool.py:1100: InsecureRequestWarning: Unverified HTTPS request is being made to host 'vikaspedia.in'. Adding certificate verification is strongly advised. See: https://urllib3.readthedocs.io/en/latest/advanced-usage.html#tls-warnings\n",
      "  warnings.warn(\n"
     ]
    },
    {
     "name": "stdout",
     "output_type": "stream",
     "text": [
      "Tissue culture\n"
     ]
    },
    {
     "name": "stderr",
     "output_type": "stream",
     "text": [
      "C:\\Users\\9616k\\AppData\\Local\\Programs\\Python\\Python312\\Lib\\site-packages\\urllib3\\connectionpool.py:1100: InsecureRequestWarning: Unverified HTTPS request is being made to host 'vikaspedia.in'. Adding certificate verification is strongly advised. See: https://urllib3.readthedocs.io/en/latest/advanced-usage.html#tls-warnings\n",
      "  warnings.warn(\n"
     ]
    },
    {
     "name": "stdout",
     "output_type": "stream",
     "text": [
      "FAQs on Plant Tissue culture\n"
     ]
    },
    {
     "name": "stderr",
     "output_type": "stream",
     "text": [
      "C:\\Users\\9616k\\AppData\\Local\\Programs\\Python\\Python312\\Lib\\site-packages\\urllib3\\connectionpool.py:1100: InsecureRequestWarning: Unverified HTTPS request is being made to host 'vikaspedia.in'. Adding certificate verification is strongly advised. See: https://urllib3.readthedocs.io/en/latest/advanced-usage.html#tls-warnings\n",
      "  warnings.warn(\n"
     ]
    },
    {
     "name": "stdout",
     "output_type": "stream",
     "text": [
      "National Certification System for Tissue Culture raised plants\n"
     ]
    },
    {
     "name": "stderr",
     "output_type": "stream",
     "text": [
      "C:\\Users\\9616k\\AppData\\Local\\Programs\\Python\\Python312\\Lib\\site-packages\\urllib3\\connectionpool.py:1100: InsecureRequestWarning: Unverified HTTPS request is being made to host 'vikaspedia.in'. Adding certificate verification is strongly advised. See: https://urllib3.readthedocs.io/en/latest/advanced-usage.html#tls-warnings\n",
      "  warnings.warn(\n"
     ]
    }
   ],
   "source": [
    "allSectors=webScrape(BASE_URL+\"/agriculture\")"
   ]
  },
  {
   "cell_type": "code",
   "execution_count": 4,
   "id": "7a2c003b-d6c8-4466-8ebd-17481a82e470",
   "metadata": {},
   "outputs": [
    {
     "data": {
      "text/plain": [
       "[{'Agri Credit': [{'Cooperative societies in agricultural sector': 'SCRAPPED DATA FOR Cooperative societies in agricultural sector'},\n",
       "   {'Credit Institutions': [{'Priority sector lending': 'SCRAPPED DATA FOR Priority sector lending'},\n",
       "     {'Support from Banks': 'SCRAPPED DATA FOR Support from Banks'}]},\n",
       "   {'Interest subvention scheme for farmers': 'SCRAPPED DATA FOR Interest subvention scheme for farmers'},\n",
       "   {'Revised Kisan Credit Card Scheme': 'SCRAPPED DATA FOR Revised Kisan Credit Card Scheme'}]},\n",
       " {'Agri Directory': [{'Globally Important Agricultural Heritage Systems in India': 'SCRAPPED DATA FOR  Globally Important Agricultural Heritage Systems in India'},\n",
       "   {'Agricultural Technology Information Centre': 'SCRAPPED DATA FOR Agricultural Technology Information Centre'},\n",
       "   {'Agricultural Technology Information Centre': 'SCRAPPED DATA FOR Agricultural Technology Information Centre'},\n",
       "   {'Commodity Boards': 'SCRAPPED DATA FOR Commodity Boards'}]},\n",
       " {'Agri Exports': [{'Agri commodities for export': 'SCRAPPED DATA FOR Agri commodities for export'},\n",
       "   {'Agriculture Export Policy 2018': 'SCRAPPED DATA FOR Agriculture Export Policy 2018'},\n",
       "   {'Export of Agricultural and processed food products': 'SCRAPPED DATA FOR Export of Agricultural and processed food products'},\n",
       "   {'Export policy of broken rice amended to ensure adequate domestic availability': 'SCRAPPED DATA FOR Export policy of broken rice amended to ensure adequate domestic availability'}]},\n",
       " {'Agri Inputs': [{'Bio-inputs': [{'Actinomycetes': [{'Actinomycetes for effective management of plant diseases and nematodes': 'SCRAPPED DATA FOR Actinomycetes for effective management of plant diseases and nematodes'},\n",
       "       {'Role of actinomycetes in the management of plant parasitic nematodes': 'SCRAPPED DATA FOR Role of actinomycetes in the management of plant parasitic nematodes'}]},\n",
       "     {'Bioinputs for Nutrient management': [{'Biofertilizers': 'SCRAPPED DATA FOR Biofertilizers'},\n",
       "       {'Compost from farm-waste': 'SCRAPPED DATA FOR Compost from farm-waste'},\n",
       "       {'Compost from Parthenium': 'SCRAPPED DATA FOR Compost from Parthenium'},\n",
       "       {'Dasagavya': 'SCRAPPED DATA FOR Dasagavya'}]},\n",
       "     {'Brown manuring': 'SCRAPPED DATA FOR Brown manuring'},\n",
       "     {'Mexican beetle for Parthenium management': 'SCRAPPED DATA FOR Mexican beetle for Parthenium management'}]},\n",
       "   {'Farm Machinary': [{'Solar Insect Trapper': 'SCRAPPED DATA FOR  Solar Insect Trapper'},\n",
       "     {'Drip irrigation system': 'SCRAPPED DATA FOR Drip irrigation system'},\n",
       "     {'National database on post-harvest machinery': 'SCRAPPED DATA FOR National database on post-harvest machinery '},\n",
       "     {'Sprinkler Irrigation System': 'SCRAPPED DATA FOR Sprinkler Irrigation System'}]},\n",
       "   {'Inorganic inputs': [{'Fertilizer related schemes': 'SCRAPPED DATA FOR Fertilizer related schemes'},\n",
       "     {'Nano Urea': 'SCRAPPED DATA FOR Nano Urea'},\n",
       "     {'Neem coated urea': 'SCRAPPED DATA FOR Neem coated urea'},\n",
       "     {'Revolutionize farming with nano silver hydrogen peroxide for Agriculture': 'SCRAPPED DATA FOR Revolutionize farming with nano silver hydrogen peroxide for Agriculture'}]},\n",
       "   {'Seeds': [{'Classes of seeds': 'SCRAPPED DATA FOR Classes of seeds'},\n",
       "     {'Crop varieties in India': 'SCRAPPED DATA FOR Crop varieties in India'},\n",
       "     {'Guidelines for Release/Notification, Provisional Notification and De-notification of Cultivars': 'SCRAPPED DATA FOR Guidelines for Release/Notification, Provisional Notification and De-notification of Cultivars'},\n",
       "     {'Planting material': [{'Tissue culture': [{'FAQs on Plant Tissue culture': 'SCRAPPED DATA FOR FAQs on Plant Tissue culture'},\n",
       "         {'National Certification System for Tissue Culture raised plants': 'SCRAPPED DATA FOR National Certification System for Tissue Culture raised plants'}]}]}]}]}]"
      ]
     },
     "execution_count": 4,
     "metadata": {},
     "output_type": "execute_result"
    }
   ],
   "source": [
    "allSectors"
   ]
  },
  {
   "cell_type": "code",
   "execution_count": 5,
   "id": "a6d6fd18-7f16-4f0e-acf6-81ee3fb3e1fa",
   "metadata": {},
   "outputs": [],
   "source": [
    "with open('folderCategories.txt', 'w') as file:\n",
    "    for item in allSectors:\n",
    "        file.write(f\"{item}\\n\")"
   ]
  },
  {
   "cell_type": "code",
   "execution_count": 7,
   "id": "a91a90fd-d2f5-494c-9250-23cdabcfc440",
   "metadata": {},
   "outputs": [
    {
     "data": {
      "text/plain": [
       "{'Agri Credit': [{'Cooperative societies in agricultural sector': 'SCRAPPED DATA FOR Cooperative societies in agricultural sector'},\n",
       "  {'Credit Institutions': [{'Priority sector lending': 'SCRAPPED DATA FOR Priority sector lending'},\n",
       "    {'Support from Banks': 'SCRAPPED DATA FOR Support from Banks'}]},\n",
       "  {'Interest subvention scheme for farmers': 'SCRAPPED DATA FOR Interest subvention scheme for farmers'},\n",
       "  {'Revised Kisan Credit Card Scheme': 'SCRAPPED DATA FOR Revised Kisan Credit Card Scheme'}],\n",
       " 'Agri Directory': [{'Globally Important Agricultural Heritage Systems in India': 'SCRAPPED DATA FOR  Globally Important Agricultural Heritage Systems in India'},\n",
       "  {'Agricultural Technology Information Centre': 'SCRAPPED DATA FOR Agricultural Technology Information Centre'},\n",
       "  {'Agricultural Technology Information Centre': 'SCRAPPED DATA FOR Agricultural Technology Information Centre'},\n",
       "  {'Commodity Boards': 'SCRAPPED DATA FOR Commodity Boards'}],\n",
       " 'Agri Exports': [{'Agri commodities for export': 'SCRAPPED DATA FOR Agri commodities for export'},\n",
       "  {'Agriculture Export Policy 2018': 'SCRAPPED DATA FOR Agriculture Export Policy 2018'},\n",
       "  {'Export of Agricultural and processed food products': 'SCRAPPED DATA FOR Export of Agricultural and processed food products'},\n",
       "  {'Export policy of broken rice amended to ensure adequate domestic availability': 'SCRAPPED DATA FOR Export policy of broken rice amended to ensure adequate domestic availability'}],\n",
       " 'Agri Inputs': [{'Bio-inputs': [{'Actinomycetes': [{'Actinomycetes for effective management of plant diseases and nematodes': 'SCRAPPED DATA FOR Actinomycetes for effective management of plant diseases and nematodes'},\n",
       "      {'Role of actinomycetes in the management of plant parasitic nematodes': 'SCRAPPED DATA FOR Role of actinomycetes in the management of plant parasitic nematodes'}]},\n",
       "    {'Bioinputs for Nutrient management': [{'Biofertilizers': 'SCRAPPED DATA FOR Biofertilizers'},\n",
       "      {'Compost from farm-waste': 'SCRAPPED DATA FOR Compost from farm-waste'},\n",
       "      {'Compost from Parthenium': 'SCRAPPED DATA FOR Compost from Parthenium'},\n",
       "      {'Dasagavya': 'SCRAPPED DATA FOR Dasagavya'}]},\n",
       "    {'Brown manuring': 'SCRAPPED DATA FOR Brown manuring'},\n",
       "    {'Mexican beetle for Parthenium management': 'SCRAPPED DATA FOR Mexican beetle for Parthenium management'}]},\n",
       "  {'Farm Machinary': [{'Solar Insect Trapper': 'SCRAPPED DATA FOR  Solar Insect Trapper'},\n",
       "    {'Drip irrigation system': 'SCRAPPED DATA FOR Drip irrigation system'},\n",
       "    {'National database on post-harvest machinery': 'SCRAPPED DATA FOR National database on post-harvest machinery '},\n",
       "    {'Sprinkler Irrigation System': 'SCRAPPED DATA FOR Sprinkler Irrigation System'}]},\n",
       "  {'Inorganic inputs': [{'Fertilizer related schemes': 'SCRAPPED DATA FOR Fertilizer related schemes'},\n",
       "    {'Nano Urea': 'SCRAPPED DATA FOR Nano Urea'},\n",
       "    {'Neem coated urea': 'SCRAPPED DATA FOR Neem coated urea'},\n",
       "    {'Revolutionize farming with nano silver hydrogen peroxide for Agriculture': 'SCRAPPED DATA FOR Revolutionize farming with nano silver hydrogen peroxide for Agriculture'}]},\n",
       "  {'Seeds': [{'Classes of seeds': 'SCRAPPED DATA FOR Classes of seeds'},\n",
       "    {'Crop varieties in India': 'SCRAPPED DATA FOR Crop varieties in India'},\n",
       "    {'Guidelines for Release/Notification, Provisional Notification and De-notification of Cultivars': 'SCRAPPED DATA FOR Guidelines for Release/Notification, Provisional Notification and De-notification of Cultivars'},\n",
       "    {'Planting material': [{'Tissue culture': [{'FAQs on Plant Tissue culture': 'SCRAPPED DATA FOR FAQs on Plant Tissue culture'},\n",
       "        {'National Certification System for Tissue Culture raised plants': 'SCRAPPED DATA FOR National Certification System for Tissue Culture raised plants'}]}]}]}]}"
      ]
     },
     "execution_count": 7,
     "metadata": {},
     "output_type": "execute_result"
    }
   ],
   "source": [
    "allSectorsDict={}\n",
    "for i in allSectors:\n",
    "    for j in i:\n",
    "        allSectorsDict[j]=i[j]\n",
    "allSectorsDict"
   ]
  },
  {
   "cell_type": "code",
   "execution_count": 8,
   "id": "0fba24d8-9267-4136-8be9-617da0136b3a",
   "metadata": {},
   "outputs": [
    {
     "name": "stdout",
     "output_type": "stream",
     "text": [
      "Agri Credit\n",
      "Agri Directory\n",
      "Agri Exports\n",
      "Agri Inputs\n"
     ]
    }
   ],
   "source": [
    "for i in allSectorsDict:\n",
    "    print(i)"
   ]
  },
  {
   "cell_type": "code",
   "execution_count": 23,
   "id": "c0106f13-02cb-4c8f-990a-a6f255f58deb",
   "metadata": {},
   "outputs": [],
   "source": [
    "def format_data(data, indent=0):\n",
    "    formatted_text = \"\"\n",
    "    for key, value in data.items():\n",
    "        if isinstance(value, list):\n",
    "            formatted_text += f\"{'\\t' * indent}{key}:\\n\"\n",
    "            for item in value:\n",
    "                formatted_text += format_data(item, indent + 1)\n",
    "        else:\n",
    "            formatted_text += f\"{'\\t' * (indent + 1)}{key}: {value}\\n\"\n",
    "    return formatted_text"
   ]
  },
  {
   "cell_type": "code",
   "execution_count": 24,
   "id": "c5c6b61e-345b-42be-a46c-0c73f262cebb",
   "metadata": {},
   "outputs": [
    {
     "data": {
      "text/plain": [
       "'Agri Credit:\\n\\t\\tCooperative societies in agricultural sector: SCRAPPED DATA FOR Cooperative societies in agricultural sector\\n\\tCredit Institutions:\\n\\t\\t\\tPriority sector lending: SCRAPPED DATA FOR Priority sector lending\\n\\t\\t\\tSupport from Banks: SCRAPPED DATA FOR Support from Banks\\n\\t\\tInterest subvention scheme for farmers: SCRAPPED DATA FOR Interest subvention scheme for farmers\\n\\t\\tRevised Kisan Credit Card Scheme: SCRAPPED DATA FOR Revised Kisan Credit Card Scheme\\nAgri Directory:\\n\\t\\tGlobally Important Agricultural Heritage Systems in India: SCRAPPED DATA FOR  Globally Important Agricultural Heritage Systems in India\\n\\t\\tAgricultural Technology Information Centre: SCRAPPED DATA FOR Agricultural Technology Information Centre\\n\\t\\tAgricultural Technology Information Centre: SCRAPPED DATA FOR Agricultural Technology Information Centre\\n\\t\\tCommodity Boards: SCRAPPED DATA FOR Commodity Boards\\nAgri Exports:\\n\\t\\tAgri commodities for export: SCRAPPED DATA FOR Agri commodities for export\\n\\t\\tAgriculture Export Policy 2018: SCRAPPED DATA FOR Agriculture Export Policy 2018\\n\\t\\tExport of Agricultural and processed food products: SCRAPPED DATA FOR Export of Agricultural and processed food products\\n\\t\\tExport policy of broken rice amended to ensure adequate domestic availability: SCRAPPED DATA FOR Export policy of broken rice amended to ensure adequate domestic availability\\nAgri Inputs:\\n\\tBio-inputs:\\n\\t\\tActinomycetes:\\n\\t\\t\\t\\tActinomycetes for effective management of plant diseases and nematodes: SCRAPPED DATA FOR Actinomycetes for effective management of plant diseases and nematodes\\n\\t\\t\\t\\tRole of actinomycetes in the management of plant parasitic nematodes: SCRAPPED DATA FOR Role of actinomycetes in the management of plant parasitic nematodes\\n\\t\\tBioinputs for Nutrient management:\\n\\t\\t\\t\\tBiofertilizers: SCRAPPED DATA FOR Biofertilizers\\n\\t\\t\\t\\tCompost from farm-waste: SCRAPPED DATA FOR Compost from farm-waste\\n\\t\\t\\t\\tCompost from Parthenium: SCRAPPED DATA FOR Compost from Parthenium\\n\\t\\t\\t\\tDasagavya: SCRAPPED DATA FOR Dasagavya\\n\\t\\t\\tBrown manuring: SCRAPPED DATA FOR Brown manuring\\n\\t\\t\\tMexican beetle for Parthenium management: SCRAPPED DATA FOR Mexican beetle for Parthenium management\\n\\tFarm Machinary:\\n\\t\\t\\tSolar Insect Trapper: SCRAPPED DATA FOR  Solar Insect Trapper\\n\\t\\t\\tDrip irrigation system: SCRAPPED DATA FOR Drip irrigation system\\n\\t\\t\\tNational database on post-harvest machinery: SCRAPPED DATA FOR National database on post-harvest machinery \\n\\t\\t\\tSprinkler Irrigation System: SCRAPPED DATA FOR Sprinkler Irrigation System\\n\\tInorganic inputs:\\n\\t\\t\\tFertilizer related schemes: SCRAPPED DATA FOR Fertilizer related schemes\\n\\t\\t\\tNano Urea: SCRAPPED DATA FOR Nano Urea\\n\\t\\t\\tNeem coated urea: SCRAPPED DATA FOR Neem coated urea\\n\\t\\t\\tRevolutionize farming with nano silver hydrogen peroxide for Agriculture: SCRAPPED DATA FOR Revolutionize farming with nano silver hydrogen peroxide for Agriculture\\n\\tSeeds:\\n\\t\\t\\tClasses of seeds: SCRAPPED DATA FOR Classes of seeds\\n\\t\\t\\tCrop varieties in India: SCRAPPED DATA FOR Crop varieties in India\\n\\t\\t\\tGuidelines for Release/Notification, Provisional Notification and De-notification of Cultivars: SCRAPPED DATA FOR Guidelines for Release/Notification, Provisional Notification and De-notification of Cultivars\\n\\t\\tPlanting material:\\n\\t\\t\\tTissue culture:\\n\\t\\t\\t\\t\\tFAQs on Plant Tissue culture: SCRAPPED DATA FOR FAQs on Plant Tissue culture\\n\\t\\t\\t\\t\\tNational Certification System for Tissue Culture raised plants: SCRAPPED DATA FOR National Certification System for Tissue Culture raised plants\\n'"
      ]
     },
     "execution_count": 24,
     "metadata": {},
     "output_type": "execute_result"
    }
   ],
   "source": [
    "formattedData=format_data(allSectorsDict)\n",
    "formattedData"
   ]
  },
  {
   "cell_type": "code",
   "execution_count": 25,
   "id": "985aa62f-e1c6-45e7-bcb7-c2783aecb3a3",
   "metadata": {},
   "outputs": [],
   "source": [
    "with open('folderCategories.txt', 'w') as file:\n",
    "        file.write(formattedData)"
   ]
  },
  {
   "cell_type": "code",
   "execution_count": 44,
   "id": "81eb2666-f866-4a5e-9b58-de4101f4231f",
   "metadata": {},
   "outputs": [
    {
     "name": "stdout",
     "output_type": "stream",
     "text": [
      "{'Cooperative societies in agricultural sector': 'SCRAPPED DATA FOR Cooperative societies in agricultural sector'}\n",
      "{'Priority sector lending': 'SCRAPPED DATA FOR Priority sector lending'}\n",
      "{'Support from Banks': 'SCRAPPED DATA FOR Support from Banks'}\n",
      "{'Interest subvention scheme for farmers': 'SCRAPPED DATA FOR Interest subvention scheme for farmers'}\n",
      "{'Revised Kisan Credit Card Scheme': 'SCRAPPED DATA FOR Revised Kisan Credit Card Scheme'}\n",
      "{'Globally Important Agricultural Heritage Systems in India': 'SCRAPPED DATA FOR  Globally Important Agricultural Heritage Systems in India'}\n",
      "{'Agricultural Technology Information Centre': 'SCRAPPED DATA FOR Agricultural Technology Information Centre'}\n",
      "{'Agricultural Technology Information Centre': 'SCRAPPED DATA FOR Agricultural Technology Information Centre'}\n",
      "{'Commodity Boards': 'SCRAPPED DATA FOR Commodity Boards'}\n",
      "{'Agri commodities for export': 'SCRAPPED DATA FOR Agri commodities for export'}\n",
      "{'Agriculture Export Policy 2018': 'SCRAPPED DATA FOR Agriculture Export Policy 2018'}\n",
      "{'Export of Agricultural and processed food products': 'SCRAPPED DATA FOR Export of Agricultural and processed food products'}\n",
      "{'Export policy of broken rice amended to ensure adequate domestic availability': 'SCRAPPED DATA FOR Export policy of broken rice amended to ensure adequate domestic availability'}\n",
      "{'Actinomycetes': [{'Actinomycetes for effective management of plant diseases and nematodes': 'SCRAPPED DATA FOR Actinomycetes for effective management of plant diseases and nematodes'}, {'Role of actinomycetes in the management of plant parasitic nematodes': 'SCRAPPED DATA FOR Role of actinomycetes in the management of plant parasitic nematodes'}]}\n",
      "{'Bioinputs for Nutrient management': [{'Biofertilizers': 'SCRAPPED DATA FOR Biofertilizers'}, {'Compost from farm-waste': 'SCRAPPED DATA FOR Compost from farm-waste'}, {'Compost from Parthenium': 'SCRAPPED DATA FOR Compost from Parthenium'}, {'Dasagavya': 'SCRAPPED DATA FOR Dasagavya'}]}\n",
      "{'Brown manuring': 'SCRAPPED DATA FOR Brown manuring'}\n",
      "{'Mexican beetle for Parthenium management': 'SCRAPPED DATA FOR Mexican beetle for Parthenium management'}\n",
      "{'Solar Insect Trapper': 'SCRAPPED DATA FOR  Solar Insect Trapper'}\n",
      "{'Drip irrigation system': 'SCRAPPED DATA FOR Drip irrigation system'}\n",
      "{'National database on post-harvest machinery': 'SCRAPPED DATA FOR National database on post-harvest machinery '}\n",
      "{'Sprinkler Irrigation System': 'SCRAPPED DATA FOR Sprinkler Irrigation System'}\n",
      "{'Fertilizer related schemes': 'SCRAPPED DATA FOR Fertilizer related schemes'}\n",
      "{'Nano Urea': 'SCRAPPED DATA FOR Nano Urea'}\n",
      "{'Neem coated urea': 'SCRAPPED DATA FOR Neem coated urea'}\n",
      "{'Revolutionize farming with nano silver hydrogen peroxide for Agriculture': 'SCRAPPED DATA FOR Revolutionize farming with nano silver hydrogen peroxide for Agriculture'}\n",
      "{'Classes of seeds': 'SCRAPPED DATA FOR Classes of seeds'}\n",
      "{'Crop varieties in India': 'SCRAPPED DATA FOR Crop varieties in India'}\n",
      "{'Guidelines for Release/Notification, Provisional Notification and De-notification of Cultivars': 'SCRAPPED DATA FOR Guidelines for Release/Notification, Provisional Notification and De-notification of Cultivars'}\n",
      "{'Planting material': [{'Tissue culture': [{'FAQs on Plant Tissue culture': 'SCRAPPED DATA FOR FAQs on Plant Tissue culture'}, {'National Certification System for Tissue Culture raised plants': 'SCRAPPED DATA FOR National Certification System for Tissue Culture raised plants'}]}]}\n"
     ]
    }
   ],
   "source": [
    "formattedString=\"\"\n",
    "for i in allSectorsDict:\n",
    "    temp=[]\n",
    "    for j in allSectorsDict[i]:\n",
    "        for key,value in j.items():\n",
    "            if isinstance(value, list):\n",
    "                for item in value:\n",
    "                    temp.append(item)\n",
    "            else:\n",
    "                temp.append({key:value})\n",
    "    for j in temp:\n",
    "        print(j)"
   ]
  },
  {
   "cell_type": "code",
   "execution_count": null,
   "id": "5fd80f13-570d-44ed-b9af-5a7595efb5f9",
   "metadata": {},
   "outputs": [],
   "source": []
  },
  {
   "cell_type": "code",
   "execution_count": null,
   "id": "db13f5dd-bc0a-43fe-9e61-4ae6b21ee9b5",
   "metadata": {},
   "outputs": [],
   "source": []
  }
 ],
 "metadata": {
  "kernelspec": {
   "display_name": "Python 3 (ipykernel)",
   "language": "python",
   "name": "python3"
  },
  "language_info": {
   "codemirror_mode": {
    "name": "ipython",
    "version": 3
   },
   "file_extension": ".py",
   "mimetype": "text/x-python",
   "name": "python",
   "nbconvert_exporter": "python",
   "pygments_lexer": "ipython3",
   "version": "3.12.0"
  }
 },
 "nbformat": 4,
 "nbformat_minor": 5
}
