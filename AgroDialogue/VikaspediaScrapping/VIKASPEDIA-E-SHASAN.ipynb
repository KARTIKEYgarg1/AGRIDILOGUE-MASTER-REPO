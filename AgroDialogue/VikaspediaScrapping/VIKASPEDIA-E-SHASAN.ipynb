{
 "cells": [
  {
   "cell_type": "code",
   "execution_count": 1,
   "id": "1755f410",
   "metadata": {},
   "outputs": [
    {
     "name": "stderr",
     "output_type": "stream",
     "text": [
      "<>:11: SyntaxWarning: invalid escape sequence '\\P'\n",
      "<>:11: SyntaxWarning: invalid escape sequence '\\P'\n",
      "C:\\Users\\9616k\\AppData\\Local\\Temp\\ipykernel_22932\\3344381657.py:11: SyntaxWarning: invalid escape sequence '\\P'\n",
      "  path=\"C:\\Program Files (x86)\\msedgedriver.exe\"\n"
     ]
    }
   ],
   "source": [
    "from bs4 import BeautifulSoup\n",
    "import requests\n",
    "import time\n",
    "import os\n",
    "import re\n",
    "import selenium\n",
    "from selenium import webdriver\n",
    "from selenium.webdriver.common.by import By\n",
    "import time\n",
    "import os\n",
    "path=\"C:\\Program Files (x86)\\msedgedriver.exe\""
   ]
  },
  {
   "cell_type": "code",
   "execution_count": 2,
   "id": "d9b78219",
   "metadata": {},
   "outputs": [],
   "source": [
    "BASE_URL=\"https://xn--j2bd4cyah0f.xn--11by0av0at5becfj.xn--h2brj9c\""
   ]
  },
  {
   "cell_type": "code",
   "execution_count": 3,
   "id": "03b92d28",
   "metadata": {},
   "outputs": [],
   "source": [
    "import re\n",
    "\n",
    "def clean_name(folder_name):\n",
    "    # Replace special characters in folder name with '-'\n",
    "    # For special cases like while scraping data for category: Guidelines for Release/Notification, Provisional Notification and De-notification of Cultivars\n",
    "    cleaned_name = re.sub(r'[\\/:*?\"<>| ]', '-', folder_name)\n",
    "    cleaned_name = cleaned_name.replace(\"\\\"\", \"\")\n",
    "    cleaned_name = cleaned_name.replace(\"'\", \"\")\n",
    "    return cleaned_name\n"
   ]
  },
  {
   "cell_type": "code",
   "execution_count": 13,
   "id": "ca15f25f",
   "metadata": {},
   "outputs": [],
   "source": [
    "def fetchData(soup):\n",
    "    x=0\n",
    "    MiddleColumn = soup.find('div', id='MiddleColumn')\n",
    "    if MiddleColumn:\n",
    "        # Remove all tags and add only text\n",
    "        text_content = ''\n",
    "        for element in MiddleColumn.contents:\n",
    "            x+=1\n",
    "            if element.name == 'h3' or element.name == 'h4' or element.name == 'p':\n",
    "                text_content += str(element.text) + '\\n'\n",
    "            else:\n",
    "                text_content += str(element)\n",
    "    if x<3:\n",
    "        MiddleColumn = soup.find('div', id='MiddleColumn_internal')\n",
    "        # Remove all <a> tags from MiddleColumn\n",
    "        for a_tag in MiddleColumn.find_all('a'):\n",
    "            a_tag.decompose()\n",
    "        # Remove all tags and add only text\n",
    "        text_content = ''\n",
    "        for element in MiddleColumn.contents:\n",
    "            if element.name == 'h3' or element.name == 'h4' or element.name == 'p':\n",
    "                text_content += str(element.text) + '\\n'\n",
    "            else:\n",
    "                text_content += str(element)\n",
    "    # Remove HTML tags using regular expression\n",
    "    return re.sub(r'<.*?>', '', text_content)"
   ]
  },
  {
   "cell_type": "code",
   "execution_count": 5,
   "id": "18b62cbe",
   "metadata": {},
   "outputs": [],
   "source": [
    "def webScrapeSubCategory(url, folder_path='.'):\n",
    "    #For Delay\n",
    "    try:\n",
    "        data = requests.get(url, verify=False) #Ignoring SSL certificate verification\n",
    "        soup = BeautifulSoup(data.text, \"html.parser\") # Generating Soup\n",
    "#         print(soup)\n",
    "        a_tags = soup.find_all('a', class_='folderfile_name') #Fetching a tags\n",
    "        result = []\n",
    "        if a_tags:\n",
    "            for tag in a_tags:\n",
    "                category_name = tag.text.strip() #removing extra spaces or lines\n",
    "                category_folder_name = clean_name(category_name) #clean name\n",
    "                category_folder_path = os.path.join(folder_path, category_folder_name) # calulate path\n",
    "                os.makedirs(category_folder_path, exist_ok=True) # If directory does not exitst create one\n",
    "                print(f\"Scraping data for category: {category_name} {url}\") #Show message --> For Debugging\n",
    "                category_url = BASE_URL + tag.get('href') #Next website\n",
    "                subcategories = webScrapeSubCategory(category_url, category_folder_path) # recursively call\n",
    "                result.append({category_name: subcategories})\n",
    "        else:\n",
    "            print(f\"Fetching content for {url}\")\n",
    "            driver = webdriver.Edge() \n",
    "            driver.get(url)\n",
    "            time.sleep(5)\n",
    "            html_content = driver.page_source\n",
    "            driver.quit() \n",
    "            soup = BeautifulSoup(html_content, \"html.parser\") # Generating Soup\n",
    "            title = soup.find('h3', class_='title')\n",
    "            if title is None:\n",
    "                title = soup.find('h3')\n",
    "            scrapped_data = title.text + \"\\n\\n\" + fetchData(soup)     \n",
    "            with open(os.path.join(folder_path, clean_name(title.text)+'.txt'), 'w', encoding='utf-8') as file:\n",
    "                file.write(scrapped_data)\n",
    "            return scrapped_data\n",
    "        return result\n",
    "    except Exception as e:\n",
    "        print(\"EXCEPTION OCCURRED\",e)\n",
    "        return \"\"\n"
   ]
  },
  {
   "cell_type": "code",
   "execution_count": 14,
   "id": "d03c14f5",
   "metadata": {},
   "outputs": [],
   "source": [
    "def webScrape(url, start,end,folder_path='.'):\n",
    "    #For Delay\n",
    "    try:\n",
    "        data = requests.get(url, verify=False) #Ignoring SSL certificate verification\n",
    "        soup = BeautifulSoup(data.text, \"html.parser\") # Generating Soup\n",
    "        a_tags = soup.find_all('a', class_='folderfile_name') #Fetching a tags\n",
    "        result = []\n",
    "        if a_tags:\n",
    "            for tag in a_tags[start:end+1]:\n",
    "                category_name = tag.text.strip() #removing extra spaces or lines\n",
    "                category_folder_name = clean_name(category_name) #clean name\n",
    "                category_folder_path = os.path.join(folder_path, category_folder_name) # calulate path\n",
    "                os.makedirs(category_folder_path, exist_ok=True) # If directory does not exitst create one\n",
    "                print(f\"Scraping data for category: {category_name} {url}\") #Show message --> For Debugging\n",
    "                category_url = BASE_URL + tag.get('href') #Next website\n",
    "                subcategories = webScrapeSubCategory(category_url, category_folder_path) # recursively call\n",
    "                result.append({category_name: subcategories})\n",
    "        else:\n",
    "            title = soup.find('h3', class_='card-title title')\n",
    "            scrapped_data = title.text + \"\\n\\n\" + fetchData(url)\n",
    "            with open(os.path.join(folder_path, clean_name(title.text)+'.txt'), 'w', encoding='utf-8') as file:\n",
    "                file.write(scrapped_data)\n",
    "            return scrapped_data\n",
    "    \n",
    "        return result\n",
    "    except Exception as e:\n",
    "        print(\"EXCEPTION OCCURRED\",e)\n"
   ]
  },
  {
   "cell_type": "code",
   "execution_count": 15,
   "id": "fafce7b8",
   "metadata": {},
   "outputs": [
    {
     "name": "stdout",
     "output_type": "stream",
     "text": [
      "[['ई-शासन', 0], ['ई-शासन ऑनलाईन सेवाएं', 1], ['उत्कृष्ट प्रयास', 2], ['एफ.एस.एस.ए.आई(FSSAI) लाइसेंस की आवश्यकता एवं प्रक्रिया', 3], ['डिजिटल इंडिया', 4], ['डिजिटल भुगतान ', 5], ['नागरिक सेवाएं', 6], ['भारत में ई-शासन', 7], ['भारत में विधिक सेवाएँ', 8], ['महिलाएं एवं ई-शासन ', 9], ['मोबाइल शासन', 10], ['राज्य', 11], ['वीएलई के लिए संसाधन', 12], ['वीएलई समाचार ', 13], ['सूचना का अधिकार ', 14]]\n"
     ]
    },
    {
     "name": "stderr",
     "output_type": "stream",
     "text": [
      "C:\\Users\\9616k\\Documents\\CODES\\WebScrapLearning\\venv\\Lib\\site-packages\\urllib3\\connectionpool.py:1100: InsecureRequestWarning: Unverified HTTPS request is being made to host 'xn--j2bd4cyah0f.xn--11by0av0at5becfj.xn--h2brj9c'. Adding certificate verification is strongly advised. See: https://urllib3.readthedocs.io/en/latest/advanced-usage.html#tls-warnings\n",
      "  warnings.warn(\n"
     ]
    }
   ],
   "source": [
    "#For generating list with indices\n",
    "data = requests.get(BASE_URL+\"/e-governance\", verify=False) #Ignoring SSL certificate verification\n",
    "soup = BeautifulSoup(data.text, \"html.parser\") # Generating Soup\n",
    "a_tags = soup.find_all('a', class_='folderfile_name') #Fetching a tags\n",
    "# print(soup)\n",
    "result = []\n",
    "if a_tags:\n",
    "    for i,tag in enumerate(a_tags):\n",
    "        result.append([tag.text,i])\n",
    "    print(result)\n",
    "else:\n",
    "    print(\"No a tags found\")"
   ]
  },
  {
   "cell_type": "code",
   "execution_count": 20,
   "id": "28d20814",
   "metadata": {},
   "outputs": [
    {
     "name": "stderr",
     "output_type": "stream",
     "text": [
      "C:\\Users\\9616k\\Documents\\CODES\\WebScrapLearning\\venv\\Lib\\site-packages\\urllib3\\connectionpool.py:1100: InsecureRequestWarning: Unverified HTTPS request is being made to host 'xn--j2bd4cyah0f.xn--11by0av0at5becfj.xn--h2brj9c'. Adding certificate verification is strongly advised. See: https://urllib3.readthedocs.io/en/latest/advanced-usage.html#tls-warnings\n",
      "  warnings.warn(\n"
     ]
    },
    {
     "name": "stdout",
     "output_type": "stream",
     "text": [
      "Scraping data for category: वीएलई समाचार https://xn--j2bd4cyah0f.xn--11by0av0at5becfj.xn--h2brj9c/e-governance\n"
     ]
    },
    {
     "name": "stderr",
     "output_type": "stream",
     "text": [
      "C:\\Users\\9616k\\Documents\\CODES\\WebScrapLearning\\venv\\Lib\\site-packages\\urllib3\\connectionpool.py:1100: InsecureRequestWarning: Unverified HTTPS request is being made to host 'xn--j2bd4cyah0f.xn--11by0av0at5becfj.xn--h2brj9c'. Adding certificate verification is strongly advised. See: https://urllib3.readthedocs.io/en/latest/advanced-usage.html#tls-warnings\n",
      "  warnings.warn(\n"
     ]
    },
    {
     "name": "stdout",
     "output_type": "stream",
     "text": [
      "Scraping data for category: अपना धन के लिए रजिस्टर करें https://xn--j2bd4cyah0f.xn--11by0av0at5becfj.xn--h2brj9c/e-governance/93594090f932908-93892e93e91a93e930\n"
     ]
    },
    {
     "name": "stderr",
     "output_type": "stream",
     "text": [
      "C:\\Users\\9616k\\Documents\\CODES\\WebScrapLearning\\venv\\Lib\\site-packages\\urllib3\\connectionpool.py:1100: InsecureRequestWarning: Unverified HTTPS request is being made to host 'xn--j2bd4cyah0f.xn--11by0av0at5becfj.xn--h2brj9c'. Adding certificate verification is strongly advised. See: https://urllib3.readthedocs.io/en/latest/advanced-usage.html#tls-warnings\n",
      "  warnings.warn(\n"
     ]
    },
    {
     "name": "stdout",
     "output_type": "stream",
     "text": [
      "Fetching content for https://xn--j2bd4cyah0f.xn--11by0av0at5becfj.xn--h2brj9c/e-governance/93594090f932908-93892e93e91a93e930/अपना-धन-के-लिए-रजिस्टर-करें\n",
      "Scraping data for category: अब सीएससी के लिए कौशल केंद्र मान्यता प्रक्रिया ऑपन https://xn--j2bd4cyah0f.xn--11by0av0at5becfj.xn--h2brj9c/e-governance/93594090f932908-93892e93e91a93e930\n"
     ]
    },
    {
     "name": "stderr",
     "output_type": "stream",
     "text": [
      "C:\\Users\\9616k\\Documents\\CODES\\WebScrapLearning\\venv\\Lib\\site-packages\\urllib3\\connectionpool.py:1100: InsecureRequestWarning: Unverified HTTPS request is being made to host 'xn--j2bd4cyah0f.xn--11by0av0at5becfj.xn--h2brj9c'. Adding certificate verification is strongly advised. See: https://urllib3.readthedocs.io/en/latest/advanced-usage.html#tls-warnings\n",
      "  warnings.warn(\n"
     ]
    },
    {
     "name": "stdout",
     "output_type": "stream",
     "text": [
      "Fetching content for https://xn--j2bd4cyah0f.xn--11by0av0at5becfj.xn--h2brj9c/e-governance/93594090f932908-93892e93e91a93e930/अब-सीएससी-के-लिए-कौशल-केंद्र-मान्यता-प्रक्रिया-ऑपन\n",
      "Scraping data for category: डिजिटाइज इंडिया प्लेटफार्म में रजिस्टर करें https://xn--j2bd4cyah0f.xn--11by0av0at5becfj.xn--h2brj9c/e-governance/93594090f932908-93892e93e91a93e930\n"
     ]
    },
    {
     "name": "stderr",
     "output_type": "stream",
     "text": [
      "C:\\Users\\9616k\\Documents\\CODES\\WebScrapLearning\\venv\\Lib\\site-packages\\urllib3\\connectionpool.py:1100: InsecureRequestWarning: Unverified HTTPS request is being made to host 'xn--j2bd4cyah0f.xn--11by0av0at5becfj.xn--h2brj9c'. Adding certificate verification is strongly advised. See: https://urllib3.readthedocs.io/en/latest/advanced-usage.html#tls-warnings\n",
      "  warnings.warn(\n"
     ]
    },
    {
     "name": "stdout",
     "output_type": "stream",
     "text": [
      "Fetching content for https://xn--j2bd4cyah0f.xn--11by0av0at5becfj.xn--h2brj9c/e-governance/93594090f932908-93892e93e91a93e930/डिजिटाइज-इंडिया-प्लेटफार्म-में-रजिस्टर-करें\n",
      "Scraping data for category: सफल वीएलई https://xn--j2bd4cyah0f.xn--11by0av0at5becfj.xn--h2brj9c/e-governance/93594090f932908-93892e93e91a93e930\n"
     ]
    },
    {
     "name": "stderr",
     "output_type": "stream",
     "text": [
      "C:\\Users\\9616k\\Documents\\CODES\\WebScrapLearning\\venv\\Lib\\site-packages\\urllib3\\connectionpool.py:1100: InsecureRequestWarning: Unverified HTTPS request is being made to host 'xn--j2bd4cyah0f.xn--11by0av0at5becfj.xn--h2brj9c'. Adding certificate verification is strongly advised. See: https://urllib3.readthedocs.io/en/latest/advanced-usage.html#tls-warnings\n",
      "  warnings.warn(\n"
     ]
    },
    {
     "name": "stdout",
     "output_type": "stream",
     "text": [
      "Scraping data for category: वीएलई मनजीत कौर की सफल कहानी https://xn--j2bd4cyah0f.xn--11by0av0at5becfj.xn--h2brj9c/e-governance/93594090f932908-93892e93e91a93e930/93892b932-93594090f932908\n"
     ]
    },
    {
     "name": "stderr",
     "output_type": "stream",
     "text": [
      "C:\\Users\\9616k\\Documents\\CODES\\WebScrapLearning\\venv\\Lib\\site-packages\\urllib3\\connectionpool.py:1100: InsecureRequestWarning: Unverified HTTPS request is being made to host 'xn--j2bd4cyah0f.xn--11by0av0at5becfj.xn--h2brj9c'. Adding certificate verification is strongly advised. See: https://urllib3.readthedocs.io/en/latest/advanced-usage.html#tls-warnings\n",
      "  warnings.warn(\n"
     ]
    },
    {
     "name": "stdout",
     "output_type": "stream",
     "text": [
      "Fetching content for https://xn--j2bd4cyah0f.xn--11by0av0at5becfj.xn--h2brj9c/e-governance/93594090f932908-93892e93e91a93e930/93892b932-93594090f932908/वीएलई-मनजीत-कौर-की-सफल-कहानी\n",
      "Scraping data for category: वीएलई मिस्बा हाशमी की सफल कहानी https://xn--j2bd4cyah0f.xn--11by0av0at5becfj.xn--h2brj9c/e-governance/93594090f932908-93892e93e91a93e930/93892b932-93594090f932908\n"
     ]
    },
    {
     "name": "stderr",
     "output_type": "stream",
     "text": [
      "C:\\Users\\9616k\\Documents\\CODES\\WebScrapLearning\\venv\\Lib\\site-packages\\urllib3\\connectionpool.py:1100: InsecureRequestWarning: Unverified HTTPS request is being made to host 'xn--j2bd4cyah0f.xn--11by0av0at5becfj.xn--h2brj9c'. Adding certificate verification is strongly advised. See: https://urllib3.readthedocs.io/en/latest/advanced-usage.html#tls-warnings\n",
      "  warnings.warn(\n"
     ]
    },
    {
     "name": "stdout",
     "output_type": "stream",
     "text": [
      "Fetching content for https://xn--j2bd4cyah0f.xn--11by0av0at5becfj.xn--h2brj9c/e-governance/93594090f932908-93892e93e91a93e930/93892b932-93594090f932908/वीएलई-मिस्बा-हाशमी-की-सफल-कहानी\n",
      "Scraping data for category: वीएलई शुभांगी की सफल कहानी https://xn--j2bd4cyah0f.xn--11by0av0at5becfj.xn--h2brj9c/e-governance/93594090f932908-93892e93e91a93e930/93892b932-93594090f932908\n"
     ]
    },
    {
     "name": "stderr",
     "output_type": "stream",
     "text": [
      "C:\\Users\\9616k\\Documents\\CODES\\WebScrapLearning\\venv\\Lib\\site-packages\\urllib3\\connectionpool.py:1100: InsecureRequestWarning: Unverified HTTPS request is being made to host 'xn--j2bd4cyah0f.xn--11by0av0at5becfj.xn--h2brj9c'. Adding certificate verification is strongly advised. See: https://urllib3.readthedocs.io/en/latest/advanced-usage.html#tls-warnings\n",
      "  warnings.warn(\n"
     ]
    },
    {
     "name": "stdout",
     "output_type": "stream",
     "text": [
      "Fetching content for https://xn--j2bd4cyah0f.xn--11by0av0at5becfj.xn--h2brj9c/e-governance/93594090f932908-93892e93e91a93e930/93892b932-93594090f932908/वीएलई-शुभांगी-की-सफल-कहानी\n",
      "Scraping data for category: वीएलई शोभा सिंह की सफल कहानी https://xn--j2bd4cyah0f.xn--11by0av0at5becfj.xn--h2brj9c/e-governance/93594090f932908-93892e93e91a93e930/93892b932-93594090f932908\n"
     ]
    },
    {
     "name": "stderr",
     "output_type": "stream",
     "text": [
      "C:\\Users\\9616k\\Documents\\CODES\\WebScrapLearning\\venv\\Lib\\site-packages\\urllib3\\connectionpool.py:1100: InsecureRequestWarning: Unverified HTTPS request is being made to host 'xn--j2bd4cyah0f.xn--11by0av0at5becfj.xn--h2brj9c'. Adding certificate verification is strongly advised. See: https://urllib3.readthedocs.io/en/latest/advanced-usage.html#tls-warnings\n",
      "  warnings.warn(\n"
     ]
    },
    {
     "name": "stdout",
     "output_type": "stream",
     "text": [
      "Fetching content for https://xn--j2bd4cyah0f.xn--11by0av0at5becfj.xn--h2brj9c/e-governance/93594090f932908-93892e93e91a93e930/93892b932-93594090f932908/वीएलई-शोभा-सिंह-की-सफल-कहानी\n",
      "Scraping data for category: वीएलई सुभाषिनी सेंद्रेयपेरुमल की सफल कहानी https://xn--j2bd4cyah0f.xn--11by0av0at5becfj.xn--h2brj9c/e-governance/93594090f932908-93892e93e91a93e930/93892b932-93594090f932908\n"
     ]
    },
    {
     "name": "stderr",
     "output_type": "stream",
     "text": [
      "C:\\Users\\9616k\\Documents\\CODES\\WebScrapLearning\\venv\\Lib\\site-packages\\urllib3\\connectionpool.py:1100: InsecureRequestWarning: Unverified HTTPS request is being made to host 'xn--j2bd4cyah0f.xn--11by0av0at5becfj.xn--h2brj9c'. Adding certificate verification is strongly advised. See: https://urllib3.readthedocs.io/en/latest/advanced-usage.html#tls-warnings\n",
      "  warnings.warn(\n"
     ]
    },
    {
     "name": "stdout",
     "output_type": "stream",
     "text": [
      "Fetching content for https://xn--j2bd4cyah0f.xn--11by0av0at5becfj.xn--h2brj9c/e-governance/93594090f932908-93892e93e91a93e930/93892b932-93594090f932908/वीएलई-सुभाषिनी-सेंद्रेयपेरुमल-की-सफल-कहानी\n",
      "Scraping data for category: वीएलई सोम्या लायीं उत्तर प्रदेश रनकुटा में डिजिटल क्रांति https://xn--j2bd4cyah0f.xn--11by0av0at5becfj.xn--h2brj9c/e-governance/93594090f932908-93892e93e91a93e930/93892b932-93594090f932908\n"
     ]
    },
    {
     "name": "stderr",
     "output_type": "stream",
     "text": [
      "C:\\Users\\9616k\\Documents\\CODES\\WebScrapLearning\\venv\\Lib\\site-packages\\urllib3\\connectionpool.py:1100: InsecureRequestWarning: Unverified HTTPS request is being made to host 'xn--j2bd4cyah0f.xn--11by0av0at5becfj.xn--h2brj9c'. Adding certificate verification is strongly advised. See: https://urllib3.readthedocs.io/en/latest/advanced-usage.html#tls-warnings\n",
      "  warnings.warn(\n"
     ]
    },
    {
     "name": "stdout",
     "output_type": "stream",
     "text": [
      "Fetching content for https://xn--j2bd4cyah0f.xn--11by0av0at5becfj.xn--h2brj9c/e-governance/93594090f932908-93892e93e91a93e930/93892b932-93594090f932908/वीएलई-सोम्या-लायीं-उत्तर-प्रदेश-रनकुटा-में-डिजिटल-क्रांति\n",
      "Scraping data for category: सूचना का अधिकार https://xn--j2bd4cyah0f.xn--11by0av0at5becfj.xn--h2brj9c/e-governance\n"
     ]
    },
    {
     "name": "stderr",
     "output_type": "stream",
     "text": [
      "C:\\Users\\9616k\\Documents\\CODES\\WebScrapLearning\\venv\\Lib\\site-packages\\urllib3\\connectionpool.py:1100: InsecureRequestWarning: Unverified HTTPS request is being made to host 'xn--j2bd4cyah0f.xn--11by0av0at5becfj.xn--h2brj9c'. Adding certificate verification is strongly advised. See: https://urllib3.readthedocs.io/en/latest/advanced-usage.html#tls-warnings\n",
      "  warnings.warn(\n"
     ]
    },
    {
     "name": "stdout",
     "output_type": "stream",
     "text": [
      "Scraping data for category: अक्सर पूछे जाने वाले प्रश्न https://xn--j2bd4cyah0f.xn--11by0av0at5becfj.xn--h2brj9c/e-governance/about-rti-act-2005\n"
     ]
    },
    {
     "name": "stderr",
     "output_type": "stream",
     "text": [
      "C:\\Users\\9616k\\Documents\\CODES\\WebScrapLearning\\venv\\Lib\\site-packages\\urllib3\\connectionpool.py:1100: InsecureRequestWarning: Unverified HTTPS request is being made to host 'xn--j2bd4cyah0f.xn--11by0av0at5becfj.xn--h2brj9c'. Adding certificate verification is strongly advised. See: https://urllib3.readthedocs.io/en/latest/advanced-usage.html#tls-warnings\n",
      "  warnings.warn(\n"
     ]
    },
    {
     "name": "stdout",
     "output_type": "stream",
     "text": [
      "Fetching content for https://xn--j2bd4cyah0f.xn--11by0av0at5becfj.xn--h2brj9c/e-governance/about-rti-act-2005/अक्सर-पूछे-जाने-वाले-प्रश्न\n",
      "Scraping data for category: अपील की प्रक्रिया https://xn--j2bd4cyah0f.xn--11by0av0at5becfj.xn--h2brj9c/e-governance/about-rti-act-2005\n"
     ]
    },
    {
     "name": "stderr",
     "output_type": "stream",
     "text": [
      "C:\\Users\\9616k\\Documents\\CODES\\WebScrapLearning\\venv\\Lib\\site-packages\\urllib3\\connectionpool.py:1100: InsecureRequestWarning: Unverified HTTPS request is being made to host 'xn--j2bd4cyah0f.xn--11by0av0at5becfj.xn--h2brj9c'. Adding certificate verification is strongly advised. See: https://urllib3.readthedocs.io/en/latest/advanced-usage.html#tls-warnings\n",
      "  warnings.warn(\n"
     ]
    },
    {
     "name": "stdout",
     "output_type": "stream",
     "text": [
      "Fetching content for https://xn--j2bd4cyah0f.xn--11by0av0at5becfj.xn--h2brj9c/e-governance/about-rti-act-2005/अपील-की-प्रक्रिया\n",
      "Scraping data for category: आर.टी.आई.अधिनियम के तहत स्वेच्छा से सूचना देना (पहल करना) https://xn--j2bd4cyah0f.xn--11by0av0at5becfj.xn--h2brj9c/e-governance/about-rti-act-2005\n"
     ]
    },
    {
     "name": "stderr",
     "output_type": "stream",
     "text": [
      "C:\\Users\\9616k\\Documents\\CODES\\WebScrapLearning\\venv\\Lib\\site-packages\\urllib3\\connectionpool.py:1100: InsecureRequestWarning: Unverified HTTPS request is being made to host 'xn--j2bd4cyah0f.xn--11by0av0at5becfj.xn--h2brj9c'. Adding certificate verification is strongly advised. See: https://urllib3.readthedocs.io/en/latest/advanced-usage.html#tls-warnings\n",
      "  warnings.warn(\n"
     ]
    },
    {
     "name": "stdout",
     "output_type": "stream",
     "text": [
      "Fetching content for https://xn--j2bd4cyah0f.xn--11by0av0at5becfj.xn--h2brj9c/e-governance/about-rti-act-2005/906930-91f940-906908-90592793f92893f92f92e-915947-924939924-93894d93594791a94d91b93e-938947-93894291a92893e-92694792893e-92a939932-91593092893e\n",
      "Scraping data for category: आवेदन की प्रक्रिया https://xn--j2bd4cyah0f.xn--11by0av0at5becfj.xn--h2brj9c/e-governance/about-rti-act-2005\n"
     ]
    },
    {
     "name": "stderr",
     "output_type": "stream",
     "text": [
      "C:\\Users\\9616k\\Documents\\CODES\\WebScrapLearning\\venv\\Lib\\site-packages\\urllib3\\connectionpool.py:1100: InsecureRequestWarning: Unverified HTTPS request is being made to host 'xn--j2bd4cyah0f.xn--11by0av0at5becfj.xn--h2brj9c'. Adding certificate verification is strongly advised. See: https://urllib3.readthedocs.io/en/latest/advanced-usage.html#tls-warnings\n",
      "  warnings.warn(\n"
     ]
    },
    {
     "name": "stdout",
     "output_type": "stream",
     "text": [
      "Fetching content for https://xn--j2bd4cyah0f.xn--11by0av0at5becfj.xn--h2brj9c/e-governance/about-rti-act-2005/how-do-i-do\n",
      "Scraping data for category: बिहार में सूचना का अधिकार अधिनियम की सफल कहानियां https://xn--j2bd4cyah0f.xn--11by0av0at5becfj.xn--h2brj9c/e-governance/about-rti-act-2005\n"
     ]
    },
    {
     "name": "stderr",
     "output_type": "stream",
     "text": [
      "C:\\Users\\9616k\\Documents\\CODES\\WebScrapLearning\\venv\\Lib\\site-packages\\urllib3\\connectionpool.py:1100: InsecureRequestWarning: Unverified HTTPS request is being made to host 'xn--j2bd4cyah0f.xn--11by0av0at5becfj.xn--h2brj9c'. Adding certificate verification is strongly advised. See: https://urllib3.readthedocs.io/en/latest/advanced-usage.html#tls-warnings\n",
      "  warnings.warn(\n"
     ]
    },
    {
     "name": "stdout",
     "output_type": "stream",
     "text": [
      "Fetching content for https://xn--j2bd4cyah0f.xn--11by0av0at5becfj.xn--h2brj9c/e-governance/about-rti-act-2005/92c93f93993e930-92e947902-93894291a92893e-91593e-90592793f91593e930-90592793f92893f92f92e-915940-93892b932-91593993e92893f92f93e902\n",
      "Scraping data for category: बिहार में सूचना का अधिकार अधिनियम की सफल कहानियां https://xn--j2bd4cyah0f.xn--11by0av0at5becfj.xn--h2brj9c/e-governance/about-rti-act-2005\n"
     ]
    },
    {
     "name": "stderr",
     "output_type": "stream",
     "text": [
      "C:\\Users\\9616k\\Documents\\CODES\\WebScrapLearning\\venv\\Lib\\site-packages\\urllib3\\connectionpool.py:1100: InsecureRequestWarning: Unverified HTTPS request is being made to host 'xn--j2bd4cyah0f.xn--11by0av0at5becfj.xn--h2brj9c'. Adding certificate verification is strongly advised. See: https://urllib3.readthedocs.io/en/latest/advanced-usage.html#tls-warnings\n",
      "  warnings.warn(\n"
     ]
    },
    {
     "name": "stdout",
     "output_type": "stream",
     "text": [
      "Fetching content for https://xn--j2bd4cyah0f.xn--11by0av0at5becfj.xn--h2brj9c/e-governance/about-rti-act-2005/92c93f93993e930-92e947902-93894291a92893e-91593e-90592793f91593e930-90592793f92893f92f92e-915940-93892b932-91593993e92893f92f93e902-1\n",
      "Scraping data for category: सूचना अधिकार से जुड़ी उपयोगी जानकारी https://xn--j2bd4cyah0f.xn--11by0av0at5becfj.xn--h2brj9c/e-governance/about-rti-act-2005\n"
     ]
    },
    {
     "name": "stderr",
     "output_type": "stream",
     "text": [
      "C:\\Users\\9616k\\Documents\\CODES\\WebScrapLearning\\venv\\Lib\\site-packages\\urllib3\\connectionpool.py:1100: InsecureRequestWarning: Unverified HTTPS request is being made to host 'xn--j2bd4cyah0f.xn--11by0av0at5becfj.xn--h2brj9c'. Adding certificate verification is strongly advised. See: https://urllib3.readthedocs.io/en/latest/advanced-usage.html#tls-warnings\n",
      "  warnings.warn(\n"
     ]
    },
    {
     "name": "stdout",
     "output_type": "stream",
     "text": [
      "Fetching content for https://xn--j2bd4cyah0f.xn--11by0av0at5becfj.xn--h2brj9c/e-governance/about-rti-act-2005/rti-news-update\n",
      "Scraping data for category: सूचना का अधिकार विधेयक, 2005 https://xn--j2bd4cyah0f.xn--11by0av0at5becfj.xn--h2brj9c/e-governance/about-rti-act-2005\n"
     ]
    },
    {
     "name": "stderr",
     "output_type": "stream",
     "text": [
      "C:\\Users\\9616k\\Documents\\CODES\\WebScrapLearning\\venv\\Lib\\site-packages\\urllib3\\connectionpool.py:1100: InsecureRequestWarning: Unverified HTTPS request is being made to host 'xn--j2bd4cyah0f.xn--11by0av0at5becfj.xn--h2brj9c'. Adding certificate verification is strongly advised. See: https://urllib3.readthedocs.io/en/latest/advanced-usage.html#tls-warnings\n",
      "  warnings.warn(\n"
     ]
    },
    {
     "name": "stdout",
     "output_type": "stream",
     "text": [
      "Scraping data for category: आम लोगों के लिए सूचना का अधिकार https://xn--j2bd4cyah0f.xn--11by0av0at5becfj.xn--h2brj9c/e-governance/about-rti-act-2005/93894291a92893e-91593e-90592793f91593e930-93593f92794792f915-2005\n"
     ]
    },
    {
     "name": "stderr",
     "output_type": "stream",
     "text": [
      "C:\\Users\\9616k\\Documents\\CODES\\WebScrapLearning\\venv\\Lib\\site-packages\\urllib3\\connectionpool.py:1100: InsecureRequestWarning: Unverified HTTPS request is being made to host 'xn--j2bd4cyah0f.xn--11by0av0at5becfj.xn--h2brj9c'. Adding certificate verification is strongly advised. See: https://urllib3.readthedocs.io/en/latest/advanced-usage.html#tls-warnings\n",
      "  warnings.warn(\n"
     ]
    },
    {
     "name": "stdout",
     "output_type": "stream",
     "text": [
      "Fetching content for https://xn--j2bd4cyah0f.xn--11by0av0at5becfj.xn--h2brj9c/e-governance/about-rti-act-2005/93894291a92893e-91593e-90592793f91593e930-93593f92794792f915-2005/90692e-93294b91794b902-915947-93293f90f-93894291a92893e-91593e-90592793f91593e930\n",
      "Scraping data for category: केंद्रीय सूचना आयोग https://xn--j2bd4cyah0f.xn--11by0av0at5becfj.xn--h2brj9c/e-governance/about-rti-act-2005/93894291a92893e-91593e-90592793f91593e930-93593f92794792f915-2005\n"
     ]
    },
    {
     "name": "stderr",
     "output_type": "stream",
     "text": [
      "C:\\Users\\9616k\\Documents\\CODES\\WebScrapLearning\\venv\\Lib\\site-packages\\urllib3\\connectionpool.py:1100: InsecureRequestWarning: Unverified HTTPS request is being made to host 'xn--j2bd4cyah0f.xn--11by0av0at5becfj.xn--h2brj9c'. Adding certificate verification is strongly advised. See: https://urllib3.readthedocs.io/en/latest/advanced-usage.html#tls-warnings\n",
      "  warnings.warn(\n"
     ]
    },
    {
     "name": "stdout",
     "output_type": "stream",
     "text": [
      "Fetching content for https://xn--j2bd4cyah0f.xn--11by0av0at5becfj.xn--h2brj9c/e-governance/about-rti-act-2005/93894291a92893e-91593e-90592793f91593e930-93593f92794792f915-2005/91594790292694d93094092f-93894291a92893e-90692f94b917\n",
      "Scraping data for category: प्रकीर्ण https://xn--j2bd4cyah0f.xn--11by0av0at5becfj.xn--h2brj9c/e-governance/about-rti-act-2005/93894291a92893e-91593e-90592793f91593e930-93593f92794792f915-2005\n"
     ]
    },
    {
     "name": "stderr",
     "output_type": "stream",
     "text": [
      "C:\\Users\\9616k\\Documents\\CODES\\WebScrapLearning\\venv\\Lib\\site-packages\\urllib3\\connectionpool.py:1100: InsecureRequestWarning: Unverified HTTPS request is being made to host 'xn--j2bd4cyah0f.xn--11by0av0at5becfj.xn--h2brj9c'. Adding certificate verification is strongly advised. See: https://urllib3.readthedocs.io/en/latest/advanced-usage.html#tls-warnings\n",
      "  warnings.warn(\n"
     ]
    },
    {
     "name": "stdout",
     "output_type": "stream",
     "text": [
      "Fetching content for https://xn--j2bd4cyah0f.xn--11by0av0at5becfj.xn--h2brj9c/e-governance/about-rti-act-2005/93894291a92893e-91593e-90592793f91593e930-93593f92794792f915-2005/92a94d93091594093094d923\n",
      "Scraping data for category: राज्य सूचना आयोग https://xn--j2bd4cyah0f.xn--11by0av0at5becfj.xn--h2brj9c/e-governance/about-rti-act-2005/93894291a92893e-91593e-90592793f91593e930-93593f92794792f915-2005\n"
     ]
    },
    {
     "name": "stderr",
     "output_type": "stream",
     "text": [
      "C:\\Users\\9616k\\Documents\\CODES\\WebScrapLearning\\venv\\Lib\\site-packages\\urllib3\\connectionpool.py:1100: InsecureRequestWarning: Unverified HTTPS request is being made to host 'xn--j2bd4cyah0f.xn--11by0av0at5becfj.xn--h2brj9c'. Adding certificate verification is strongly advised. See: https://urllib3.readthedocs.io/en/latest/advanced-usage.html#tls-warnings\n",
      "  warnings.warn(\n"
     ]
    },
    {
     "name": "stdout",
     "output_type": "stream",
     "text": [
      "Fetching content for https://xn--j2bd4cyah0f.xn--11by0av0at5becfj.xn--h2brj9c/e-governance/about-rti-act-2005/93894291a92893e-91593e-90592793f91593e930-93593f92794792f915-2005/93093e91c94d92f-93894291a92893e-90692f94b917\n",
      "Scraping data for category: सूचना अधिकार कानून का प्रभावी कार्यान्वयन https://xn--j2bd4cyah0f.xn--11by0av0at5becfj.xn--h2brj9c/e-governance/about-rti-act-2005/93894291a92893e-91593e-90592793f91593e930-93593f92794792f915-2005\n"
     ]
    },
    {
     "name": "stderr",
     "output_type": "stream",
     "text": [
      "C:\\Users\\9616k\\Documents\\CODES\\WebScrapLearning\\venv\\Lib\\site-packages\\urllib3\\connectionpool.py:1100: InsecureRequestWarning: Unverified HTTPS request is being made to host 'xn--j2bd4cyah0f.xn--11by0av0at5becfj.xn--h2brj9c'. Adding certificate verification is strongly advised. See: https://urllib3.readthedocs.io/en/latest/advanced-usage.html#tls-warnings\n",
      "  warnings.warn(\n"
     ]
    },
    {
     "name": "stdout",
     "output_type": "stream",
     "text": [
      "Fetching content for https://xn--j2bd4cyah0f.xn--11by0av0at5becfj.xn--h2brj9c/e-governance/about-rti-act-2005/93894291a92893e-91593e-90592793f91593e930-93593f92794792f915-2005/93894291a92893e-90592793f91593e930-91593e928942928-91593e-92a94d93092d93e935940-91593e93094d92f93e92894d93592f928\n",
      "Scraping data for category: सूचना आयोग की शक्तियाँ और कृत्य, अपील तथा शास्ति https://xn--j2bd4cyah0f.xn--11by0av0at5becfj.xn--h2brj9c/e-governance/about-rti-act-2005/93894291a92893e-91593e-90592793f91593e930-93593f92794792f915-2005\n"
     ]
    },
    {
     "name": "stderr",
     "output_type": "stream",
     "text": [
      "C:\\Users\\9616k\\Documents\\CODES\\WebScrapLearning\\venv\\Lib\\site-packages\\urllib3\\connectionpool.py:1100: InsecureRequestWarning: Unverified HTTPS request is being made to host 'xn--j2bd4cyah0f.xn--11by0av0at5becfj.xn--h2brj9c'. Adding certificate verification is strongly advised. See: https://urllib3.readthedocs.io/en/latest/advanced-usage.html#tls-warnings\n",
      "  warnings.warn(\n"
     ]
    },
    {
     "name": "stdout",
     "output_type": "stream",
     "text": [
      "Fetching content for https://xn--j2bd4cyah0f.xn--11by0av0at5becfj.xn--h2brj9c/e-governance/about-rti-act-2005/93894291a92893e-91593e-90592793f91593e930-93593f92794792f915-2005/93894291a92893e-90692f94b917-915940-93691594d92493f92f93e901-914930-91594392494d92f-90592a940932-92492593e-93693e93894d92493f\n",
      "Scraping data for category: सूचना का अधिकार और लोक प्राधिकारियों की बाध्यताएं https://xn--j2bd4cyah0f.xn--11by0av0at5becfj.xn--h2brj9c/e-governance/about-rti-act-2005/93894291a92893e-91593e-90592793f91593e930-93593f92794792f915-2005\n"
     ]
    },
    {
     "name": "stderr",
     "output_type": "stream",
     "text": [
      "C:\\Users\\9616k\\Documents\\CODES\\WebScrapLearning\\venv\\Lib\\site-packages\\urllib3\\connectionpool.py:1100: InsecureRequestWarning: Unverified HTTPS request is being made to host 'xn--j2bd4cyah0f.xn--11by0av0at5becfj.xn--h2brj9c'. Adding certificate verification is strongly advised. See: https://urllib3.readthedocs.io/en/latest/advanced-usage.html#tls-warnings\n",
      "  warnings.warn(\n"
     ]
    },
    {
     "name": "stdout",
     "output_type": "stream",
     "text": [
      "Fetching content for https://xn--j2bd4cyah0f.xn--11by0av0at5becfj.xn--h2brj9c/e-governance/about-rti-act-2005/93894291a92893e-91593e-90592793f91593e930-93593f92794792f915-2005/93894291a92893e-91593e-90592793f91593e930-914930-93294b915-92a94d93093e92793f91593e93093f92f94b902-915940-92c93e92794d92f92493e90f902\n",
      "Scraping data for category: सूचना का अधिकार विधेयक विस्तार से https://xn--j2bd4cyah0f.xn--11by0av0at5becfj.xn--h2brj9c/e-governance/about-rti-act-2005/93894291a92893e-91593e-90592793f91593e930-93593f92794792f915-2005\n"
     ]
    },
    {
     "name": "stderr",
     "output_type": "stream",
     "text": [
      "C:\\Users\\9616k\\Documents\\CODES\\WebScrapLearning\\venv\\Lib\\site-packages\\urllib3\\connectionpool.py:1100: InsecureRequestWarning: Unverified HTTPS request is being made to host 'xn--j2bd4cyah0f.xn--11by0av0at5becfj.xn--h2brj9c'. Adding certificate verification is strongly advised. See: https://urllib3.readthedocs.io/en/latest/advanced-usage.html#tls-warnings\n",
      "  warnings.warn(\n"
     ]
    },
    {
     "name": "stdout",
     "output_type": "stream",
     "text": [
      "Fetching content for https://xn--j2bd4cyah0f.xn--11by0av0at5becfj.xn--h2brj9c/e-governance/about-rti-act-2005/93894291a92893e-91593e-90592793f91593e930-93593f92794792f915-2005/93894291a92893e-91593e-90592793f91593e930-93593f92794792f915-93593f93894d92493e930-938947\n",
      "Scraping data for category: सूचना का अधिकार विधेयक, 2005 निर्देशिका https://xn--j2bd4cyah0f.xn--11by0av0at5becfj.xn--h2brj9c/e-governance/about-rti-act-2005/93894291a92893e-91593e-90592793f91593e930-93593f92794792f915-2005\n"
     ]
    },
    {
     "name": "stderr",
     "output_type": "stream",
     "text": [
      "C:\\Users\\9616k\\Documents\\CODES\\WebScrapLearning\\venv\\Lib\\site-packages\\urllib3\\connectionpool.py:1100: InsecureRequestWarning: Unverified HTTPS request is being made to host 'xn--j2bd4cyah0f.xn--11by0av0at5becfj.xn--h2brj9c'. Adding certificate verification is strongly advised. See: https://urllib3.readthedocs.io/en/latest/advanced-usage.html#tls-warnings\n",
      "  warnings.warn(\n"
     ]
    },
    {
     "name": "stdout",
     "output_type": "stream",
     "text": [
      "Fetching content for https://xn--j2bd4cyah0f.xn--11by0av0at5becfj.xn--h2brj9c/e-governance/about-rti-act-2005/93894291a92893e-91593e-90592793f91593e930-93593f92794792f915-2005/93894291a92893e-91593e-90592793f91593e930-93593f92794792f915-2005-92893f93094d92694793693f91593e\n",
      "Scraping data for category: सूचना तकनीक https://xn--j2bd4cyah0f.xn--11by0av0at5becfj.xn--h2brj9c/e-governance/about-rti-act-2005\n"
     ]
    },
    {
     "name": "stderr",
     "output_type": "stream",
     "text": [
      "C:\\Users\\9616k\\Documents\\CODES\\WebScrapLearning\\venv\\Lib\\site-packages\\urllib3\\connectionpool.py:1100: InsecureRequestWarning: Unverified HTTPS request is being made to host 'xn--j2bd4cyah0f.xn--11by0av0at5becfj.xn--h2brj9c'. Adding certificate verification is strongly advised. See: https://urllib3.readthedocs.io/en/latest/advanced-usage.html#tls-warnings\n",
      "  warnings.warn(\n"
     ]
    },
    {
     "name": "stdout",
     "output_type": "stream",
     "text": [
      "Scraping data for category: सूचना तकनीक अधिनियम 2000 की प्रमुख बातें https://xn--j2bd4cyah0f.xn--11by0av0at5becfj.xn--h2brj9c/e-governance/about-rti-act-2005/93894291a92893e-924915928940915\n"
     ]
    },
    {
     "name": "stderr",
     "output_type": "stream",
     "text": [
      "C:\\Users\\9616k\\Documents\\CODES\\WebScrapLearning\\venv\\Lib\\site-packages\\urllib3\\connectionpool.py:1100: InsecureRequestWarning: Unverified HTTPS request is being made to host 'xn--j2bd4cyah0f.xn--11by0av0at5becfj.xn--h2brj9c'. Adding certificate verification is strongly advised. See: https://urllib3.readthedocs.io/en/latest/advanced-usage.html#tls-warnings\n",
      "  warnings.warn(\n"
     ]
    },
    {
     "name": "stdout",
     "output_type": "stream",
     "text": [
      "Fetching content for https://xn--j2bd4cyah0f.xn--11by0av0at5becfj.xn--h2brj9c/e-governance/about-rti-act-2005/93894291a92893e-924915928940915/सूचना-तकनीक-अधिनियम-2000-की-प्रमुख-बातें\n",
      "Scraping data for category: सूचना प्रौद्योगिकी अधिनियम, 2000 https://xn--j2bd4cyah0f.xn--11by0av0at5becfj.xn--h2brj9c/e-governance/about-rti-act-2005/93894291a92893e-924915928940915\n"
     ]
    },
    {
     "name": "stderr",
     "output_type": "stream",
     "text": [
      "C:\\Users\\9616k\\Documents\\CODES\\WebScrapLearning\\venv\\Lib\\site-packages\\urllib3\\connectionpool.py:1100: InsecureRequestWarning: Unverified HTTPS request is being made to host 'xn--j2bd4cyah0f.xn--11by0av0at5becfj.xn--h2brj9c'. Adding certificate verification is strongly advised. See: https://urllib3.readthedocs.io/en/latest/advanced-usage.html#tls-warnings\n",
      "  warnings.warn(\n"
     ]
    },
    {
     "name": "stdout",
     "output_type": "stream",
     "text": [
      "Scraping data for category: अंकीय चिन्हक और इलेक्ट्रोनिक चिन्हक https://xn--j2bd4cyah0f.xn--11by0av0at5becfj.xn--h2brj9c/e-governance/about-rti-act-2005/93894291a92893e-924915928940915/93894291a92893e-92a94d93094c92694d92f94b91793f915940-90592793f92893f92f92e-2000\n"
     ]
    },
    {
     "name": "stderr",
     "output_type": "stream",
     "text": [
      "C:\\Users\\9616k\\Documents\\CODES\\WebScrapLearning\\venv\\Lib\\site-packages\\urllib3\\connectionpool.py:1100: InsecureRequestWarning: Unverified HTTPS request is being made to host 'xn--j2bd4cyah0f.xn--11by0av0at5becfj.xn--h2brj9c'. Adding certificate verification is strongly advised. See: https://urllib3.readthedocs.io/en/latest/advanced-usage.html#tls-warnings\n",
      "  warnings.warn(\n"
     ]
    },
    {
     "name": "stdout",
     "output_type": "stream",
     "text": [
      "Fetching content for https://xn--j2bd4cyah0f.xn--11by0av0at5becfj.xn--h2brj9c/e-governance/about-rti-act-2005/93894291a92893e-924915928940915/93894291a92893e-92a94d93094c92694d92f94b91793f915940-90592793f92893f92f92e-2000/अंकीय-चिन्हक-और-इलेक्ट्रोनिक-चिन्हक\n",
      "Scraping data for category: अपराध https://xn--j2bd4cyah0f.xn--11by0av0at5becfj.xn--h2brj9c/e-governance/about-rti-act-2005/93894291a92893e-924915928940915/93894291a92893e-92a94d93094c92694d92f94b91793f915940-90592793f92893f92f92e-2000\n"
     ]
    },
    {
     "name": "stderr",
     "output_type": "stream",
     "text": [
      "C:\\Users\\9616k\\Documents\\CODES\\WebScrapLearning\\venv\\Lib\\site-packages\\urllib3\\connectionpool.py:1100: InsecureRequestWarning: Unverified HTTPS request is being made to host 'xn--j2bd4cyah0f.xn--11by0av0at5becfj.xn--h2brj9c'. Adding certificate verification is strongly advised. See: https://urllib3.readthedocs.io/en/latest/advanced-usage.html#tls-warnings\n",
      "  warnings.warn(\n"
     ]
    },
    {
     "name": "stdout",
     "output_type": "stream",
     "text": [
      "Fetching content for https://xn--j2bd4cyah0f.xn--11by0av0at5becfj.xn--h2brj9c/e-governance/about-rti-act-2005/93894291a92893e-924915928940915/93894291a92893e-92a94d93094c92694d92f94b91793f915940-90592793f92893f92f92e-2000/90592a93093e927\n",
      "Scraping data for category: इलेक्ट्रानिक अभिलेख का अधिकार, अभिस्वीकृति और प्रेषण https://xn--j2bd4cyah0f.xn--11by0av0at5becfj.xn--h2brj9c/e-governance/about-rti-act-2005/93894291a92893e-924915928940915/93894291a92893e-92a94d93094c92694d92f94b91793f915940-90592793f92893f92f92e-2000\n"
     ]
    },
    {
     "name": "stderr",
     "output_type": "stream",
     "text": [
      "C:\\Users\\9616k\\Documents\\CODES\\WebScrapLearning\\venv\\Lib\\site-packages\\urllib3\\connectionpool.py:1100: InsecureRequestWarning: Unverified HTTPS request is being made to host 'xn--j2bd4cyah0f.xn--11by0av0at5becfj.xn--h2brj9c'. Adding certificate verification is strongly advised. See: https://urllib3.readthedocs.io/en/latest/advanced-usage.html#tls-warnings\n",
      "  warnings.warn(\n"
     ]
    },
    {
     "name": "stdout",
     "output_type": "stream",
     "text": [
      "Fetching content for https://xn--j2bd4cyah0f.xn--11by0av0at5becfj.xn--h2brj9c/e-governance/about-rti-act-2005/93894291a92893e-924915928940915/93894291a92893e-92a94d93094c92694d92f94b91793f915940-90592793f92893f92f92e-2000/इलेक्ट्रानिक-अभिलेख-का-अधिकार-अभिस्वीकृति-और-प्रेषण\n",
      "EXCEPTION OCCURRED [Errno 2] No such file or directory: 'VIKASPEDIA_DATA_E_SHASAN\\\\सूचना-का-अधिकार\\\\सूचना-तकनीक\\\\सूचना-प्रौद्योगिकी-अधिनियम,-2000\\\\इलेक्ट्रानिक-अभिलेख-का-अधिकार,-अभिस्वीकृति-और-प्रेषण\\\\इलेक्ट्रानिक-अभिलेख-का-अधिकार,-अभिस्वीकृति-और-प्रेषण.txt'\n",
      "Scraping data for category: इलेक्ट्रानिक नियमन https://xn--j2bd4cyah0f.xn--11by0av0at5becfj.xn--h2brj9c/e-governance/about-rti-act-2005/93894291a92893e-924915928940915/93894291a92893e-92a94d93094c92694d92f94b91793f915940-90592793f92893f92f92e-2000\n"
     ]
    },
    {
     "name": "stderr",
     "output_type": "stream",
     "text": [
      "C:\\Users\\9616k\\Documents\\CODES\\WebScrapLearning\\venv\\Lib\\site-packages\\urllib3\\connectionpool.py:1100: InsecureRequestWarning: Unverified HTTPS request is being made to host 'xn--j2bd4cyah0f.xn--11by0av0at5becfj.xn--h2brj9c'. Adding certificate verification is strongly advised. See: https://urllib3.readthedocs.io/en/latest/advanced-usage.html#tls-warnings\n",
      "  warnings.warn(\n"
     ]
    },
    {
     "name": "stdout",
     "output_type": "stream",
     "text": [
      "Fetching content for https://xn--j2bd4cyah0f.xn--11by0av0at5becfj.xn--h2brj9c/e-governance/about-rti-act-2005/93894291a92893e-924915928940915/93894291a92893e-92a94d93094c92694d92f94b91793f915940-90592793f92893f92f92e-2000/इलेक्ट्रानिक-नियमन\n",
      "Scraping data for category: इलेक्ट्रोनिक चिन्हक प्रमाणपत्र https://xn--j2bd4cyah0f.xn--11by0av0at5becfj.xn--h2brj9c/e-governance/about-rti-act-2005/93894291a92893e-924915928940915/93894291a92893e-92a94d93094c92694d92f94b91793f915940-90592793f92893f92f92e-2000\n"
     ]
    },
    {
     "name": "stderr",
     "output_type": "stream",
     "text": [
      "C:\\Users\\9616k\\Documents\\CODES\\WebScrapLearning\\venv\\Lib\\site-packages\\urllib3\\connectionpool.py:1100: InsecureRequestWarning: Unverified HTTPS request is being made to host 'xn--j2bd4cyah0f.xn--11by0av0at5becfj.xn--h2brj9c'. Adding certificate verification is strongly advised. See: https://urllib3.readthedocs.io/en/latest/advanced-usage.html#tls-warnings\n",
      "  warnings.warn(\n"
     ]
    },
    {
     "name": "stdout",
     "output_type": "stream",
     "text": [
      "Fetching content for https://xn--j2bd4cyah0f.xn--11by0av0at5becfj.xn--h2brj9c/e-governance/about-rti-act-2005/93894291a92893e-924915928940915/93894291a92893e-92a94d93094c92694d92f94b91793f915940-90592793f92893f92f92e-2000/90793294791594d91f94d93094b92893f915-91a93f92894d939915-92a94d93092e93e92392a92494d930\n",
      "Scraping data for category: उपयोगकर्ताओं के कर्तव्य और शास्तियां, प्रतिकार और अधिनिर्णय https://xn--j2bd4cyah0f.xn--11by0av0at5becfj.xn--h2brj9c/e-governance/about-rti-act-2005/93894291a92893e-924915928940915/93894291a92893e-92a94d93094c92694d92f94b91793f915940-90592793f92893f92f92e-2000\n"
     ]
    },
    {
     "name": "stderr",
     "output_type": "stream",
     "text": [
      "C:\\Users\\9616k\\Documents\\CODES\\WebScrapLearning\\venv\\Lib\\site-packages\\urllib3\\connectionpool.py:1100: InsecureRequestWarning: Unverified HTTPS request is being made to host 'xn--j2bd4cyah0f.xn--11by0av0at5becfj.xn--h2brj9c'. Adding certificate verification is strongly advised. See: https://urllib3.readthedocs.io/en/latest/advanced-usage.html#tls-warnings\n",
      "  warnings.warn(\n"
     ]
    },
    {
     "name": "stdout",
     "output_type": "stream",
     "text": [
      "Fetching content for https://xn--j2bd4cyah0f.xn--11by0av0at5becfj.xn--h2brj9c/e-governance/about-rti-act-2005/93894291a92893e-924915928940915/93894291a92893e-92a94d93094c92694d92f94b91793f915940-90592793f92893f92f92e-2000/उपयोगकर्ताओं-के-कर्तव्य-और-शास्तियां-प्रतिकार-और-अधिनिर्णय\n",
      "EXCEPTION OCCURRED [Errno 2] No such file or directory: 'VIKASPEDIA_DATA_E_SHASAN\\\\सूचना-का-अधिकार\\\\सूचना-तकनीक\\\\सूचना-प्रौद्योगिकी-अधिनियम,-2000\\\\उपयोगकर्ताओं-के-कर्तव्य-और-शास्तियां,-प्रतिकार-और-अधिनिर्णय\\\\उपयोगकर्ताओं-के-कर्तव्य-और-शास्तियां,-प्रतिकार-और-अधिनिर्णय.txt'\n",
      "Scraping data for category: साइबर अपील अधिकरण https://xn--j2bd4cyah0f.xn--11by0av0at5becfj.xn--h2brj9c/e-governance/about-rti-act-2005/93894291a92893e-924915928940915/93894291a92893e-92a94d93094c92694d92f94b91793f915940-90592793f92893f92f92e-2000\n"
     ]
    },
    {
     "name": "stderr",
     "output_type": "stream",
     "text": [
      "C:\\Users\\9616k\\Documents\\CODES\\WebScrapLearning\\venv\\Lib\\site-packages\\urllib3\\connectionpool.py:1100: InsecureRequestWarning: Unverified HTTPS request is being made to host 'xn--j2bd4cyah0f.xn--11by0av0at5becfj.xn--h2brj9c'. Adding certificate verification is strongly advised. See: https://urllib3.readthedocs.io/en/latest/advanced-usage.html#tls-warnings\n",
      "  warnings.warn(\n"
     ]
    },
    {
     "name": "stdout",
     "output_type": "stream",
     "text": [
      "Fetching content for https://xn--j2bd4cyah0f.xn--11by0av0at5becfj.xn--h2brj9c/e-governance/about-rti-act-2005/93894291a92893e-924915928940915/93894291a92893e-92a94d93094c92694d92f94b91793f915940-90592793f92893f92f92e-2000/साइबर-अपील-अधिकरण\n",
      "Scraping data for category: सुरक्षित इलेक्ट्रानिक अभिलेख, चिह्नक और प्रमाणकर्ता प्राधिकारियों का विनियमन https://xn--j2bd4cyah0f.xn--11by0av0at5becfj.xn--h2brj9c/e-governance/about-rti-act-2005/93894291a92893e-924915928940915/93894291a92893e-92a94d93094c92694d92f94b91793f915940-90592793f92893f92f92e-2000\n"
     ]
    },
    {
     "name": "stderr",
     "output_type": "stream",
     "text": [
      "C:\\Users\\9616k\\Documents\\CODES\\WebScrapLearning\\venv\\Lib\\site-packages\\urllib3\\connectionpool.py:1100: InsecureRequestWarning: Unverified HTTPS request is being made to host 'xn--j2bd4cyah0f.xn--11by0av0at5becfj.xn--h2brj9c'. Adding certificate verification is strongly advised. See: https://urllib3.readthedocs.io/en/latest/advanced-usage.html#tls-warnings\n",
      "  warnings.warn(\n"
     ]
    },
    {
     "name": "stdout",
     "output_type": "stream",
     "text": [
      "Fetching content for https://xn--j2bd4cyah0f.xn--11by0av0at5becfj.xn--h2brj9c/e-governance/about-rti-act-2005/93894291a92893e-924915928940915/93894291a92893e-92a94d93094c92694d92f94b91793f915940-90592793f92893f92f92e-2000/93894193091594d93793f924-90793294791594d91f94d93093e92893f915-90592d93f932947916-91a93f93994d928915-935-93894193091594d93793f924-90793294791594d91f94d93093e92893f915-90592d93f932947916-914930-92a94d93092e93e92391593094d92493e\n",
      "EXCEPTION OCCURRED [Errno 2] No such file or directory: 'VIKASPEDIA_DATA_E_SHASAN\\\\सूचना-का-अधिकार\\\\सूचना-तकनीक\\\\सूचना-प्रौद्योगिकी-अधिनियम,-2000\\\\सुरक्षित-इलेक्ट्रानिक-अभिलेख,-चिह्नक-और-प्रमाणकर्ता-प्राधिकारियों-का-विनियमन\\\\सुरक्षित-इलेक्ट्रानिक-अभिलेख,-चिह्नक-और-प्रमाणकर्ता-प्राधिकारियों-का-विनियमन.txt'\n",
      "Scraping data for category: सूचना प्रौद्योगिकी अधिनियम, 2000 - प्रारंभिक https://xn--j2bd4cyah0f.xn--11by0av0at5becfj.xn--h2brj9c/e-governance/about-rti-act-2005/93894291a92893e-924915928940915/93894291a92893e-92a94d93094c92694d92f94b91793f915940-90592793f92893f92f92e-2000\n"
     ]
    },
    {
     "name": "stderr",
     "output_type": "stream",
     "text": [
      "C:\\Users\\9616k\\Documents\\CODES\\WebScrapLearning\\venv\\Lib\\site-packages\\urllib3\\connectionpool.py:1100: InsecureRequestWarning: Unverified HTTPS request is being made to host 'xn--j2bd4cyah0f.xn--11by0av0at5becfj.xn--h2brj9c'. Adding certificate verification is strongly advised. See: https://urllib3.readthedocs.io/en/latest/advanced-usage.html#tls-warnings\n",
      "  warnings.warn(\n"
     ]
    },
    {
     "name": "stdout",
     "output_type": "stream",
     "text": [
      "Fetching content for https://xn--j2bd4cyah0f.xn--11by0av0at5becfj.xn--h2brj9c/e-governance/about-rti-act-2005/93894291a92893e-924915928940915/93894291a92893e-92a94d93094c92694d92f94b91793f915940-90592793f92893f92f92e-2000/93894291a92893e-92a94d93094c92694d92f94b91793f915940-90592793f92893f92f92e-2000-92a94d93093e93090292d93f915\n",
      "EXCEPTION OCCURRED [Errno 2] No such file or directory: 'VIKASPEDIA_DATA_E_SHASAN\\\\सूचना-का-अधिकार\\\\सूचना-तकनीक\\\\सूचना-प्रौद्योगिकी-अधिनियम,-2000\\\\सूचना-प्रौद्योगिकी-अधिनियम,-2000---प्रारंभिक\\\\सूचना-प्रौद्योगिकी-अधिनियम,-2000---प्रारंभिक.txt'\n"
     ]
    }
   ],
   "source": [
    "allSectors=webScrape(BASE_URL+\"/e-governance\",0,14,\"VIKASPEDIA_DATA_E_SHASAN\") #START AND END ARE BOTH INCLUDING INDICES"
   ]
  },
  {
   "cell_type": "markdown",
   "id": "9751aec1",
   "metadata": {},
   "source": [
    "# FLATTEN"
   ]
  },
  {
   "cell_type": "code",
   "execution_count": 21,
   "id": "0877d1be",
   "metadata": {},
   "outputs": [],
   "source": [
    "import os\n",
    "import shutil\n",
    "from pathlib import Path"
   ]
  },
  {
   "cell_type": "code",
   "execution_count": 22,
   "id": "4e0c500f",
   "metadata": {},
   "outputs": [],
   "source": [
    "def move(source,dest):\n",
    "    isExist = os.path.exists(source)\n",
    "    os.makedirs(dest, exist_ok=True)\n",
    "    if isExist is False:\n",
    "        return \"PATH DOES NOT  EXIST\"\n",
    "    try:\n",
    "        for item in os.listdir(source):\n",
    "            item_path = os.path.join(source, item)\n",
    "            if os.path.isdir(item_path):\n",
    "                move(item_path,dest)  # Recursively call move function for directories\n",
    "            else:\n",
    "                # print(item)\n",
    "                with open(os.path.join(os.getcwd(),item_path),\"r\",encoding=\"utf-8\") as c:\n",
    "                    with open(os.path.join(os.getcwd(),dest,clean_name(item)),\"w\",encoding=\"utf-8\") as nf:\n",
    "                        nf.write(c.read())\n",
    "                # print(f\"SUCCESS FOR {item}\")\n",
    "    except Exception as e:\n",
    "        print(e)"
   ]
  },
  {
   "cell_type": "code",
   "execution_count": 23,
   "id": "19fc0ce9",
   "metadata": {},
   "outputs": [],
   "source": [
    "source=\"VIKASPEDIA_DATA_E_SHASAN\"\n",
    "dest=\"VIKASPEDIA_DATA_E_SHASAN_FLATTENED\"\n",
    "for item in os.listdir(source):\n",
    "    item_path = os.path.join(source, item)\n",
    "    if os.path.isdir(item_path):\n",
    "            move(item_path, os.path.join(dest, item))  # Recursively call move function for directories\n",
    "             \n",
    "# move(source,dest)"
   ]
  },
  {
   "cell_type": "markdown",
   "id": "b4c63606",
   "metadata": {},
   "source": [
    "# INSIGHTS"
   ]
  },
  {
   "cell_type": "code",
   "execution_count": 29,
   "id": "0e01ec71",
   "metadata": {},
   "outputs": [
    {
     "name": "stdout",
     "output_type": "stream",
     "text": [
      "ई-शासन -- 1\n",
      "ई-शासन-ऑनलाईन-सेवाएं -- 23\n",
      "उत्कृष्ट-प्रयास -- 1\n",
      "एफ.एस.एस.ए.आई(FSSAI)-लाइसेंस-की-आवश्यकता-एवं-प्रक्रिया -- 1\n",
      "डिजिटल-इंडिया -- 8\n",
      "डिजिटल-भुगतान -- 19\n",
      "नागरिक-सेवाएं -- 17\n",
      "भारत-में-ई-शासन -- 27\n",
      "भारत-में-विधिक-सेवाएँ -- 26\n",
      "महिलाएं-एवं-ई-शासन -- 1\n",
      "मोबाइल-शासन -- 13\n",
      "राज्य -- 29\n",
      "वीएलई-के-लिए-संसाधन -- 22\n",
      "वीएलई-समाचार -- 9\n",
      "सूचना-का-अधिकार -- 21\n",
      "total:  218\n"
     ]
    }
   ],
   "source": [
    "source=\"VIKASPEDIA_DATA_E_SHASAN_FLATTENED\"\n",
    "tot=0\n",
    "for item in os.listdir(source):\n",
    "    tot=tot+len(os.listdir(os.path.join(source,item)))\n",
    "    print(item,\"--\",len(os.listdir(os.path.join(source,item))))\n",
    "print(\"total: \",tot)"
   ]
  }
 ],
 "metadata": {
  "kernelspec": {
   "display_name": "Python 3 (ipykernel)",
   "language": "python",
   "name": "python3"
  },
  "language_info": {
   "codemirror_mode": {
    "name": "ipython",
    "version": 3
   },
   "file_extension": ".py",
   "mimetype": "text/x-python",
   "name": "python",
   "nbconvert_exporter": "python",
   "pygments_lexer": "ipython3",
   "version": "3.12.0"
  }
 },
 "nbformat": 4,
 "nbformat_minor": 5
}
