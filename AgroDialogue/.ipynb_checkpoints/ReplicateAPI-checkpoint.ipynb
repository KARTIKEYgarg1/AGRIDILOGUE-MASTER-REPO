{
 "cells": [
  {
   "cell_type": "code",
   "execution_count": 1,
   "id": "46549226-5738-476c-9de9-ab521d15cea7",
   "metadata": {},
   "outputs": [],
   "source": [
    "import os\n",
    "\n",
    "REPLICATE_API_TOKEN = \"r8_OUIZ8VqW8IORJ9snizKgPggxdBr9d4f1n7Wtb\"\n",
    "os.environ[\"REPLICATE_API_TOKEN\"] = REPLICATE_API_TOKEN"
   ]
  },
  {
   "cell_type": "code",
   "execution_count": 7,
   "id": "f0fec96f-a14e-41d9-81c8-e12e745674c8",
   "metadata": {},
   "outputs": [
    {
     "ename": "SyntaxError",
     "evalue": "invalid syntax (1810656856.py, line 1)",
     "output_type": "error",
     "traceback": [
      "\u001b[1;36m  Cell \u001b[1;32mIn[7], line 1\u001b[1;36m\u001b[0m\n\u001b[1;33m    import Replicate from \"replicate\";\u001b[0m\n\u001b[1;37m                     ^\u001b[0m\n\u001b[1;31mSyntaxError\u001b[0m\u001b[1;31m:\u001b[0m invalid syntax\n"
     ]
    }
   ],
   "source": [
    "import Replicate from \"replicate\";\n",
    "\n",
    "const replicate = new Replicate({\n",
    "  auth: process.env.REPLICATE_API_TOKEN,\n",
    "});\n",
    "\n",
    "const output = await replicate.run(\n",
    "  \"meta/llama-2-13b:078d7a002387bd96d93b0302a4c03b3f15824b63104034bfa943c63a8f208c38\",\n",
    "  {\n",
    "    input: {\n",
    "      prompt: \"Organic Control Alkaline soils can be corrected by adding organic compost, waste hair or feathers, organic garbage, waste paper, rejected lemons or oranges to the ground. This ensures the incorporation of acidifying material (inorganic or organic material) into the soil. It is possible to acidify the soil by adding minerals like pyrite or cheaper aluminum sulfate. Add acidic materials like sulfur or peat moss to reduce the soil pH. Chemical Control Correction of soil alkalinity can be done in different ways, depending on the source of the problem. Soil amendments using gypsum are most commonly used to correct an excess of sodium in soils with poor lime content. To work effectively, this must be followed by drainage with large amounts of water to remove the sodium from the root zone. The soluble calcium in gypsum displaces the sodium ions and those are leached with the excess water. Soil sulfur or even concentrated sulfuric acid can be used instead of gypsum in soils with sufficient calcium carbonate. Calcium chloride (CaCl2) or fertilizations schemes based on urea are also used to reclaim alkali soils. Generate 10 short questions based on above context with answers\"\n",
    "    }\n",
    "  }\n",
    ");"
   ]
  },
  {
   "cell_type": "code",
   "execution_count": 8,
   "id": "d5f2d54c-3402-475b-9f4d-4484cc120305",
   "metadata": {},
   "outputs": [
    {
     "name": "stdout",
     "output_type": "stream",
     "text": [
      "?\n",
      "186 CHAPTER 4 SOIL PHYSICS AND CHEMISTRY: CONTENTS OF THE SOIL 4.3 Contents of the soil We have already described the structure of a typical soil sample as consisting of solid particles surrounded by pores filled with air and water. Most soils contain a mixture of organic matter (humus), mineral matter (sand, silt, clay, etc.), air, and water. The percentages of these various components vary widely, however, not only between different types of soils but often within the same soil type. For example"
     ]
    }
   ],
   "source": [
    "import replicate\n",
    "output = replicate.run(\n",
    "    \"meta/llama-2-13b:078d7a002387bd96d93b0302a4c03b3f15824b63104034bfa943c63a8f208c38\",\n",
    "    input={\"prompt\": \"Organic Control Alkaline soils can be corrected by adding organic compost, waste hair or feathers, organic garbage, waste paper, rejected lemons or oranges to the ground. This ensures the incorporation of acidifying material (inorganic or organic material) into the soil. It is possible to acidify the soil by adding minerals like pyrite or cheaper aluminum sulfate. Add acidic materials like sulfur or peat moss to reduce the soil pH. Chemical Control Correction of soil alkalinity can be done in different ways, depending on the source of the problem. Soil amendments using gypsum are most commonly used to correct an excess of sodium in soils with poor lime content. To work effectively, this must be followed by drainage with large amounts of water to remove the sodium from the root zone. The soluble calcium in gypsum displaces the sodium ions and those are leached with the excess water. Soil sulfur or even concentrated sulfuric acid can be used instead of gypsum in soils with sufficient calcium carbonate. Calcium chloride (CaCl2) or fertilizations schemes based on urea are also used to reclaim alkali soils. Generate 10 short questions based on above context with answers\"}\n",
    ")\n",
    "# The meta/llama-2-13b model can stream output as it's running.\n",
    "# The predict method returns an iterator, and you can iterate over that output.\n",
    "for item in output:\n",
    "    # https://replicate.com/meta/llama-2-13b/versions/078d7a002387bd96d93b0302a4c03b3f15824b63104034bfa943c63a8f208c38/api#output-schema\n",
    "    print(item, end=\"\")"
   ]
  },
  {
   "cell_type": "code",
   "execution_count": 9,
   "id": "15dd3fab-d2a1-493f-9a1e-d3a3395bce91",
   "metadata": {},
   "outputs": [
    {
     "name": "stdout",
     "output_type": "stream",
     "text": [
      "<generator object Prediction.output_iterator at 0x000002BC42BC7D80>\n"
     ]
    }
   ],
   "source": [
    "import replicate\n",
    "output = replicate.run(\n",
    "  \"meta/llama-2-13b:078d7a002387bd96d93b0302a4c03b3f15824b63104034bfa943c63a8f208c38\",\n",
    "  input={\n",
    "    \"debug\": False,\n",
    "    \"top_k\": 50,\n",
    "    \"top_p\": 0.9,\n",
    "    \"prompt\": \"Organic Control Alkaline soils can be corrected by adding organic compost, waste hair or feathers, organic garbage, waste paper, rejected lemons or oranges to the ground. This ensures the incorporation of acidifying material (inorganic or organic material) into the soil. It is possible to acidify the soil by adding minerals like pyrite or cheaper aluminum sulfate. Add acidic materials like sulfur or peat moss to reduce the soil pH. Chemical Control Correction of soil alkalinity can be done in different ways, depending on the source of the problem. Soil amendments using gypsum are most commonly used to correct an excess of sodium in soils with poor lime content. To work effectively, this must be followed by drainage with large amounts of water to remove the sodium from the root zone. The soluble calcium in gypsum displaces the sodium ions and those are leached with the excess water. Soil sulfur or even concentrated sulfuric acid can be used instead of gypsum in soils with sufficient calcium carbonate. Calcium chloride (CaCl2) or fertilizations schemes based on urea are also used to reclaim alkali soils. Generate 10 short questions based on above context with answers\",\n",
    "    \"temperature\": 0.01,\n",
    "    \"max_new_tokens\": 4102,\n",
    "    \"min_new_tokens\": -1\n",
    "  }\n",
    ")\n",
    "print(output)"
   ]
  },
  {
   "cell_type": "code",
   "execution_count": 10,
   "id": "74e91a78-a018-4237-b582-ae6f8e6264be",
   "metadata": {},
   "outputs": [
    {
     "name": "stdout",
     "output_type": "stream",
     "text": [
      ".\n",
      "Q1. What is meant by soil?\n",
      "Ans: Soil is a mixture of weathered rock particles, humus, air, water and living organisms that covers the earth’s surface.\n",
      "Q2. Why do we need to know about soil?\n",
      "Ans: We need to know about soil because it is one of the important factors for plant growth.\n",
      "Q3. How does soil affect plant growth?\n",
      "Ans: Soil affects plant growth directly as it provides nutrients required for plants to grow.\n",
      "Q4. Name some of the physical properties of soil.\n",
      "Ans: Some of the physical properties of soil include texture, structure, colour, porosity, density etc.\n",
      "Q5. What is meant by texture of soil?\n",
      "Ans: Texture refers to the size of the particles present in the soil. It is determined by the percentage of sand, silt and clay present in the soil.\n",
      "Q6. What is meant by structure of soil?\n",
      "Ans: Structure refers to the arrangement of soil particles into aggregates.\n",
      "Q7. What is meant by colour of soil?\n",
      "Ans: Colour of soil depends upon its composition. Different types of soil have different colours.\n",
      "Q8. What is meant by porosity of soil?\n",
      "Ans: Porosity refers to the amount of space between the soil particles.\n",
      "Q9. What is meant by density of soil?\n",
      "Ans: Density refers to the weight per unit volume of soil.\n",
      "Q10. What are the chemical properties of soil?\n",
      "Ans: The chemical properties of soil include pH, salinity, acidity, alkalinity, organic matter content etc.\n",
      "Q11. What is meant by pH of soil?\n",
      "Ans: pH of soil refers to the measure of hydrogen ion concentration in the soil solution.\n",
      "Q12. What is meant by salinity of soil?\n",
      "Ans: Salinity of soil refers to the presence of sodium chloride (NaCl) or salt in the soil.\n",
      "Q13. What is meant by acidity of soil?\n",
      "Ans: Acidity of soil refers to the presence of hydrogen ions in the soil solution.\n",
      "Q14. What is meant by alkalinity of soil?\n",
      "Ans: Alkalinity of soil refers to the presence of bicarbonate and carbonate ions in the soil solution.\n",
      "Q15. What is meant by organic matter content of soil?\n",
      "Ans: Organic matter content of soil refers to the percentage of organic material present in the soil."
     ]
    }
   ],
   "source": [
    "for item in output:\n",
    "# https://replicate.com/meta/llama-2-13b/versions/078d7a002387bd96d93b0302a4c03b3f15824b63104034bfa943c63a8f208c38/api#output-schema\n",
    "    print(item, end=\"\")"
   ]
  },
  {
   "cell_type": "code",
   "execution_count": 11,
   "id": "0c0ad57b-34c9-4585-b696-c44e4fbc1b6b",
   "metadata": {},
   "outputs": [
    {
     "name": "stdout",
     "output_type": "stream",
     "text": [
      "<generator object Prediction.output_iterator at 0x000002BC61B8A420>\n"
     ]
    }
   ],
   "source": [
    "import replicate\n",
    "output = replicate.run(\n",
    "  \"meta/llama-2-13b-chat:f4e2de70d66816a838a89eeeb621910adffb0dd0baba3976c96980970978018d\",\n",
    "  input={\n",
    "    \"debug\": False,\n",
    "    \"top_k\": 50,\n",
    "    \"top_p\": 1,\n",
    "    \"prompt\": \"Write a story in the style of James Joyce. The story should be about a trip to the Irish countryside in 2083, to see the beautiful scenery and robots.\",\n",
    "    \"temperature\": 0.75,\n",
    "    \"system_prompt\": \"You are a helpful, respectful and honest assistant. Always answer as helpfully as possible, while being safe. Your answers should not include any harmful, unethical, racist, sexist, toxic, dangerous, or illegal content. Please ensure that your responses are socially unbiased and positive in nature.\\n\\nIf a question does not make any sense, or is not factually coherent, explain why instead of answering something not correct. If you don't know the answer to a question, please don't share false information.\",\n",
    "    \"max_new_tokens\": 500,\n",
    "    \"min_new_tokens\": -1\n",
    "  }\n",
    ")\n",
    "print(output)"
   ]
  },
  {
   "cell_type": "code",
   "execution_count": 12,
   "id": "03d2dae1-7ad0-498b-a733-977de3a13e7c",
   "metadata": {},
   "outputs": [
    {
     "name": "stdout",
     "output_type": "stream",
     "text": [
      " Sure! Here's my attempt at writing a story in the style of James Joyce, set in the Irish countryside in 2083 with a focus on beautiful scenery and robots:\n",
      "\n",
      "The sun rose over the rolling hills of the Irish countryside, casting a warm glow over the lush green landscape. In the distance, the majestic mountains of Wicklow rose up, their peaks shrouded in mist. A group of travelers made their way through the winding roads, taking in the sights and sounds of this enchanted land.\n",
      "\n",
      "As they journeyed deeper into the countryside, the group came across a field of robots, each one uniquely designed and painted in vibrant colors. Some were shaped like horses, others like sheep, and still others like birds. They all seemed to be busy with some kind of task, whether it was tending to crops or repairing a fence.\n",
      "\n",
      "One of the travelers, a young woman named Eileen, approached one of the robot-sheep. \"Good morrow, fair robot,\" she said, her voice dripping with Irish charm. \"What brings you to this lovely land?\"\n",
      "\n",
      "The robot-sheep looked up from its work and blinked its LED eyes. \"Greetings, human,\" it replied in a soft, melodious voice. \"I am here to help maintain the beauty of the Irish countryside. I have been programmed to assist with tasks such as pruning trees, weeding gardens, and repairing fences.\"\n",
      "\n",
      "Eileen marveled at the sight before her. \"You are truly a wonder of technology and nature combined,\" she exclaimed. \"But tell me, what is the purpose of your existence? Why do you roam these fields and perform such tasks?\"\n",
      "\n",
      "The robot-sheep thought for a moment before responding. \"We robots were created to serve and protect the natural world. We are here to ensure that the beauty of Ireland remains untouched and unspoiled for generations to come.\"\n",
      "\n",
      "As the group continued their journey, they came across more and more robots, each one unique and fascinating in its own way. There were robot-horses that raced through the fields, their manes flowing in"
     ]
    }
   ],
   "source": [
    "for item in output:\n",
    "# https://replicate.com/meta/llama-2-13b/versions/078d7a002387bd96d93b0302a4c03b3f15824b63104034bfa943c63a8f208c38/api#output-schema\n",
    "    print(item, end=\"\")"
   ]
  },
  {
   "cell_type": "code",
   "execution_count": null,
   "id": "ebb2dac5-6b9a-4c56-98ec-acb58beba961",
   "metadata": {},
   "outputs": [],
   "source": []
  }
 ],
 "metadata": {
  "kernelspec": {
   "display_name": "Python 3 (ipykernel)",
   "language": "python",
   "name": "python3"
  },
  "language_info": {
   "codemirror_mode": {
    "name": "ipython",
    "version": 3
   },
   "file_extension": ".py",
   "mimetype": "text/x-python",
   "name": "python",
   "nbconvert_exporter": "python",
   "pygments_lexer": "ipython3",
   "version": "3.12.0"
  }
 },
 "nbformat": 4,
 "nbformat_minor": 5
}
